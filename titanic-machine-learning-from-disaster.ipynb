{
 "cells": [
  {
   "cell_type": "code",
   "execution_count": 1,
   "id": "69e1f9b9",
   "metadata": {
    "_cell_guid": "b1076dfc-b9ad-4769-8c92-a6c4dae69d19",
    "_uuid": "8f2839f25d086af736a60e9eeb907d3b93b6e0e5",
    "execution": {
     "iopub.execute_input": "2024-11-21T18:17:37.761124Z",
     "iopub.status.busy": "2024-11-21T18:17:37.760702Z",
     "iopub.status.idle": "2024-11-21T18:17:41.063239Z",
     "shell.execute_reply": "2024-11-21T18:17:41.062161Z"
    },
    "papermill": {
     "duration": 3.313512,
     "end_time": "2024-11-21T18:17:41.065673",
     "exception": false,
     "start_time": "2024-11-21T18:17:37.752161",
     "status": "completed"
    },
    "tags": []
   },
   "outputs": [
    {
     "name": "stdout",
     "output_type": "stream",
     "text": [
      "/kaggle/input/titanic/train.csv\n",
      "/kaggle/input/titanic/test.csv\n",
      "/kaggle/input/titanic/gender_submission.csv\n"
     ]
    }
   ],
   "source": [
    "# This Python 3 environment comes with many helpful analytics libraries installed\n",
    "# It is defined by the kaggle/python Docker image: https://github.com/kaggle/docker-python\n",
    "# For example, here's several helpful packages to load\n",
    "\n",
    "import pandas as pd\n",
    "import numpy as np\n",
    "import matplotlib.pyplot as plt\n",
    "import seaborn as sns\n",
    "from sklearn.model_selection import train_test_split\n",
    "from sklearn.preprocessing import StandardScaler, LabelEncoder\n",
    "from sklearn.ensemble import RandomForestClassifier\n",
    "from sklearn.metrics import accuracy_score, confusion_matrix, classification_report\n",
    "\n",
    "# Input data files are available in the read-only \"../input/\" directory\n",
    "# For example, running this (by clicking run or pressing Shift+Enter) will list all files under the input directory\n",
    "\n",
    "import os\n",
    "for dirname, _, filenames in os.walk('/kaggle/input'):\n",
    "    for filename in filenames:\n",
    "        print(os.path.join(dirname, filename))\n",
    "\n",
    "# You can write up to 20GB to the current directory (/kaggle/working/) that gets preserved as output when you create a version using \"Save & Run All\" \n",
    "# You can also write temporary files to /kaggle/temp/, but they won't be saved outside of the current session"
   ]
  },
  {
   "cell_type": "markdown",
   "id": "649db857",
   "metadata": {
    "papermill": {
     "duration": 0.005491,
     "end_time": "2024-11-21T18:17:41.077583",
     "exception": false,
     "start_time": "2024-11-21T18:17:41.072092",
     "status": "completed"
    },
    "tags": []
   },
   "source": [
    "<div class=\"alert alert-block alert-info\" \n",
    "     style=\"background-color: #000f; \n",
    "            color: #ffcc00; \n",
    "            border: 2px solid #008b8b; \n",
    "            border-radius: 10px; \n",
    "            padding: 15px; \n",
    "            font-family: Arial, sans-serif;\">\n",
    "   <h2> Load the Data<h2>\n",
    "\n",
    "</div>\n",
    "\r\n",
    "    div>"
   ]
  },
  {
   "cell_type": "code",
   "execution_count": 2,
   "id": "681407e4",
   "metadata": {
    "execution": {
     "iopub.execute_input": "2024-11-21T18:17:41.091122Z",
     "iopub.status.busy": "2024-11-21T18:17:41.090228Z",
     "iopub.status.idle": "2024-11-21T18:17:41.150562Z",
     "shell.execute_reply": "2024-11-21T18:17:41.149553Z"
    },
    "papermill": {
     "duration": 0.069613,
     "end_time": "2024-11-21T18:17:41.152950",
     "exception": false,
     "start_time": "2024-11-21T18:17:41.083337",
     "status": "completed"
    },
    "tags": []
   },
   "outputs": [
    {
     "data": {
      "text/html": [
       "<div>\n",
       "<style scoped>\n",
       "    .dataframe tbody tr th:only-of-type {\n",
       "        vertical-align: middle;\n",
       "    }\n",
       "\n",
       "    .dataframe tbody tr th {\n",
       "        vertical-align: top;\n",
       "    }\n",
       "\n",
       "    .dataframe thead th {\n",
       "        text-align: right;\n",
       "    }\n",
       "</style>\n",
       "<table border=\"1\" class=\"dataframe\">\n",
       "  <thead>\n",
       "    <tr style=\"text-align: right;\">\n",
       "      <th></th>\n",
       "      <th>PassengerId</th>\n",
       "      <th>Survived</th>\n",
       "      <th>Pclass</th>\n",
       "      <th>Name</th>\n",
       "      <th>Sex</th>\n",
       "      <th>Age</th>\n",
       "      <th>SibSp</th>\n",
       "      <th>Parch</th>\n",
       "      <th>Ticket</th>\n",
       "      <th>Fare</th>\n",
       "      <th>Cabin</th>\n",
       "      <th>Embarked</th>\n",
       "    </tr>\n",
       "  </thead>\n",
       "  <tbody>\n",
       "    <tr>\n",
       "      <th>0</th>\n",
       "      <td>1</td>\n",
       "      <td>0</td>\n",
       "      <td>3</td>\n",
       "      <td>Braund, Mr. Owen Harris</td>\n",
       "      <td>male</td>\n",
       "      <td>22.0</td>\n",
       "      <td>1</td>\n",
       "      <td>0</td>\n",
       "      <td>A/5 21171</td>\n",
       "      <td>7.2500</td>\n",
       "      <td>NaN</td>\n",
       "      <td>S</td>\n",
       "    </tr>\n",
       "    <tr>\n",
       "      <th>1</th>\n",
       "      <td>2</td>\n",
       "      <td>1</td>\n",
       "      <td>1</td>\n",
       "      <td>Cumings, Mrs. John Bradley (Florence Briggs Th...</td>\n",
       "      <td>female</td>\n",
       "      <td>38.0</td>\n",
       "      <td>1</td>\n",
       "      <td>0</td>\n",
       "      <td>PC 17599</td>\n",
       "      <td>71.2833</td>\n",
       "      <td>C85</td>\n",
       "      <td>C</td>\n",
       "    </tr>\n",
       "    <tr>\n",
       "      <th>2</th>\n",
       "      <td>3</td>\n",
       "      <td>1</td>\n",
       "      <td>3</td>\n",
       "      <td>Heikkinen, Miss. Laina</td>\n",
       "      <td>female</td>\n",
       "      <td>26.0</td>\n",
       "      <td>0</td>\n",
       "      <td>0</td>\n",
       "      <td>STON/O2. 3101282</td>\n",
       "      <td>7.9250</td>\n",
       "      <td>NaN</td>\n",
       "      <td>S</td>\n",
       "    </tr>\n",
       "    <tr>\n",
       "      <th>3</th>\n",
       "      <td>4</td>\n",
       "      <td>1</td>\n",
       "      <td>1</td>\n",
       "      <td>Futrelle, Mrs. Jacques Heath (Lily May Peel)</td>\n",
       "      <td>female</td>\n",
       "      <td>35.0</td>\n",
       "      <td>1</td>\n",
       "      <td>0</td>\n",
       "      <td>113803</td>\n",
       "      <td>53.1000</td>\n",
       "      <td>C123</td>\n",
       "      <td>S</td>\n",
       "    </tr>\n",
       "    <tr>\n",
       "      <th>4</th>\n",
       "      <td>5</td>\n",
       "      <td>0</td>\n",
       "      <td>3</td>\n",
       "      <td>Allen, Mr. William Henry</td>\n",
       "      <td>male</td>\n",
       "      <td>35.0</td>\n",
       "      <td>0</td>\n",
       "      <td>0</td>\n",
       "      <td>373450</td>\n",
       "      <td>8.0500</td>\n",
       "      <td>NaN</td>\n",
       "      <td>S</td>\n",
       "    </tr>\n",
       "    <tr>\n",
       "      <th>...</th>\n",
       "      <td>...</td>\n",
       "      <td>...</td>\n",
       "      <td>...</td>\n",
       "      <td>...</td>\n",
       "      <td>...</td>\n",
       "      <td>...</td>\n",
       "      <td>...</td>\n",
       "      <td>...</td>\n",
       "      <td>...</td>\n",
       "      <td>...</td>\n",
       "      <td>...</td>\n",
       "      <td>...</td>\n",
       "    </tr>\n",
       "    <tr>\n",
       "      <th>886</th>\n",
       "      <td>887</td>\n",
       "      <td>0</td>\n",
       "      <td>2</td>\n",
       "      <td>Montvila, Rev. Juozas</td>\n",
       "      <td>male</td>\n",
       "      <td>27.0</td>\n",
       "      <td>0</td>\n",
       "      <td>0</td>\n",
       "      <td>211536</td>\n",
       "      <td>13.0000</td>\n",
       "      <td>NaN</td>\n",
       "      <td>S</td>\n",
       "    </tr>\n",
       "    <tr>\n",
       "      <th>887</th>\n",
       "      <td>888</td>\n",
       "      <td>1</td>\n",
       "      <td>1</td>\n",
       "      <td>Graham, Miss. Margaret Edith</td>\n",
       "      <td>female</td>\n",
       "      <td>19.0</td>\n",
       "      <td>0</td>\n",
       "      <td>0</td>\n",
       "      <td>112053</td>\n",
       "      <td>30.0000</td>\n",
       "      <td>B42</td>\n",
       "      <td>S</td>\n",
       "    </tr>\n",
       "    <tr>\n",
       "      <th>888</th>\n",
       "      <td>889</td>\n",
       "      <td>0</td>\n",
       "      <td>3</td>\n",
       "      <td>Johnston, Miss. Catherine Helen \"Carrie\"</td>\n",
       "      <td>female</td>\n",
       "      <td>NaN</td>\n",
       "      <td>1</td>\n",
       "      <td>2</td>\n",
       "      <td>W./C. 6607</td>\n",
       "      <td>23.4500</td>\n",
       "      <td>NaN</td>\n",
       "      <td>S</td>\n",
       "    </tr>\n",
       "    <tr>\n",
       "      <th>889</th>\n",
       "      <td>890</td>\n",
       "      <td>1</td>\n",
       "      <td>1</td>\n",
       "      <td>Behr, Mr. Karl Howell</td>\n",
       "      <td>male</td>\n",
       "      <td>26.0</td>\n",
       "      <td>0</td>\n",
       "      <td>0</td>\n",
       "      <td>111369</td>\n",
       "      <td>30.0000</td>\n",
       "      <td>C148</td>\n",
       "      <td>C</td>\n",
       "    </tr>\n",
       "    <tr>\n",
       "      <th>890</th>\n",
       "      <td>891</td>\n",
       "      <td>0</td>\n",
       "      <td>3</td>\n",
       "      <td>Dooley, Mr. Patrick</td>\n",
       "      <td>male</td>\n",
       "      <td>32.0</td>\n",
       "      <td>0</td>\n",
       "      <td>0</td>\n",
       "      <td>370376</td>\n",
       "      <td>7.7500</td>\n",
       "      <td>NaN</td>\n",
       "      <td>Q</td>\n",
       "    </tr>\n",
       "  </tbody>\n",
       "</table>\n",
       "<p>891 rows × 12 columns</p>\n",
       "</div>"
      ],
      "text/plain": [
       "     PassengerId  Survived  Pclass  \\\n",
       "0              1         0       3   \n",
       "1              2         1       1   \n",
       "2              3         1       3   \n",
       "3              4         1       1   \n",
       "4              5         0       3   \n",
       "..           ...       ...     ...   \n",
       "886          887         0       2   \n",
       "887          888         1       1   \n",
       "888          889         0       3   \n",
       "889          890         1       1   \n",
       "890          891         0       3   \n",
       "\n",
       "                                                  Name     Sex   Age  SibSp  \\\n",
       "0                              Braund, Mr. Owen Harris    male  22.0      1   \n",
       "1    Cumings, Mrs. John Bradley (Florence Briggs Th...  female  38.0      1   \n",
       "2                               Heikkinen, Miss. Laina  female  26.0      0   \n",
       "3         Futrelle, Mrs. Jacques Heath (Lily May Peel)  female  35.0      1   \n",
       "4                             Allen, Mr. William Henry    male  35.0      0   \n",
       "..                                                 ...     ...   ...    ...   \n",
       "886                              Montvila, Rev. Juozas    male  27.0      0   \n",
       "887                       Graham, Miss. Margaret Edith  female  19.0      0   \n",
       "888           Johnston, Miss. Catherine Helen \"Carrie\"  female   NaN      1   \n",
       "889                              Behr, Mr. Karl Howell    male  26.0      0   \n",
       "890                                Dooley, Mr. Patrick    male  32.0      0   \n",
       "\n",
       "     Parch            Ticket     Fare Cabin Embarked  \n",
       "0        0         A/5 21171   7.2500   NaN        S  \n",
       "1        0          PC 17599  71.2833   C85        C  \n",
       "2        0  STON/O2. 3101282   7.9250   NaN        S  \n",
       "3        0            113803  53.1000  C123        S  \n",
       "4        0            373450   8.0500   NaN        S  \n",
       "..     ...               ...      ...   ...      ...  \n",
       "886      0            211536  13.0000   NaN        S  \n",
       "887      0            112053  30.0000   B42        S  \n",
       "888      2        W./C. 6607  23.4500   NaN        S  \n",
       "889      0            111369  30.0000  C148        C  \n",
       "890      0            370376   7.7500   NaN        Q  \n",
       "\n",
       "[891 rows x 12 columns]"
      ]
     },
     "execution_count": 2,
     "metadata": {},
     "output_type": "execute_result"
    }
   ],
   "source": [
    "# Load datasets\n",
    "train_data = pd.read_csv('/kaggle/input/titanic/train.csv')\n",
    "test_data = pd.read_csv('/kaggle/input/titanic/test.csv')\n",
    "\n",
    "# Preview data\n",
    "train_data\n"
   ]
  },
  {
   "cell_type": "code",
   "execution_count": 3,
   "id": "2847dc38",
   "metadata": {
    "execution": {
     "iopub.execute_input": "2024-11-21T18:17:41.167590Z",
     "iopub.status.busy": "2024-11-21T18:17:41.167227Z",
     "iopub.status.idle": "2024-11-21T18:17:41.183391Z",
     "shell.execute_reply": "2024-11-21T18:17:41.182432Z"
    },
    "papermill": {
     "duration": 0.026529,
     "end_time": "2024-11-21T18:17:41.185957",
     "exception": false,
     "start_time": "2024-11-21T18:17:41.159428",
     "status": "completed"
    },
    "tags": []
   },
   "outputs": [
    {
     "data": {
      "text/html": [
       "<div>\n",
       "<style scoped>\n",
       "    .dataframe tbody tr th:only-of-type {\n",
       "        vertical-align: middle;\n",
       "    }\n",
       "\n",
       "    .dataframe tbody tr th {\n",
       "        vertical-align: top;\n",
       "    }\n",
       "\n",
       "    .dataframe thead th {\n",
       "        text-align: right;\n",
       "    }\n",
       "</style>\n",
       "<table border=\"1\" class=\"dataframe\">\n",
       "  <thead>\n",
       "    <tr style=\"text-align: right;\">\n",
       "      <th></th>\n",
       "      <th>PassengerId</th>\n",
       "      <th>Pclass</th>\n",
       "      <th>Name</th>\n",
       "      <th>Sex</th>\n",
       "      <th>Age</th>\n",
       "      <th>SibSp</th>\n",
       "      <th>Parch</th>\n",
       "      <th>Ticket</th>\n",
       "      <th>Fare</th>\n",
       "      <th>Cabin</th>\n",
       "      <th>Embarked</th>\n",
       "    </tr>\n",
       "  </thead>\n",
       "  <tbody>\n",
       "    <tr>\n",
       "      <th>0</th>\n",
       "      <td>892</td>\n",
       "      <td>3</td>\n",
       "      <td>Kelly, Mr. James</td>\n",
       "      <td>male</td>\n",
       "      <td>34.5</td>\n",
       "      <td>0</td>\n",
       "      <td>0</td>\n",
       "      <td>330911</td>\n",
       "      <td>7.8292</td>\n",
       "      <td>NaN</td>\n",
       "      <td>Q</td>\n",
       "    </tr>\n",
       "    <tr>\n",
       "      <th>1</th>\n",
       "      <td>893</td>\n",
       "      <td>3</td>\n",
       "      <td>Wilkes, Mrs. James (Ellen Needs)</td>\n",
       "      <td>female</td>\n",
       "      <td>47.0</td>\n",
       "      <td>1</td>\n",
       "      <td>0</td>\n",
       "      <td>363272</td>\n",
       "      <td>7.0000</td>\n",
       "      <td>NaN</td>\n",
       "      <td>S</td>\n",
       "    </tr>\n",
       "    <tr>\n",
       "      <th>2</th>\n",
       "      <td>894</td>\n",
       "      <td>2</td>\n",
       "      <td>Myles, Mr. Thomas Francis</td>\n",
       "      <td>male</td>\n",
       "      <td>62.0</td>\n",
       "      <td>0</td>\n",
       "      <td>0</td>\n",
       "      <td>240276</td>\n",
       "      <td>9.6875</td>\n",
       "      <td>NaN</td>\n",
       "      <td>Q</td>\n",
       "    </tr>\n",
       "    <tr>\n",
       "      <th>3</th>\n",
       "      <td>895</td>\n",
       "      <td>3</td>\n",
       "      <td>Wirz, Mr. Albert</td>\n",
       "      <td>male</td>\n",
       "      <td>27.0</td>\n",
       "      <td>0</td>\n",
       "      <td>0</td>\n",
       "      <td>315154</td>\n",
       "      <td>8.6625</td>\n",
       "      <td>NaN</td>\n",
       "      <td>S</td>\n",
       "    </tr>\n",
       "    <tr>\n",
       "      <th>4</th>\n",
       "      <td>896</td>\n",
       "      <td>3</td>\n",
       "      <td>Hirvonen, Mrs. Alexander (Helga E Lindqvist)</td>\n",
       "      <td>female</td>\n",
       "      <td>22.0</td>\n",
       "      <td>1</td>\n",
       "      <td>1</td>\n",
       "      <td>3101298</td>\n",
       "      <td>12.2875</td>\n",
       "      <td>NaN</td>\n",
       "      <td>S</td>\n",
       "    </tr>\n",
       "    <tr>\n",
       "      <th>...</th>\n",
       "      <td>...</td>\n",
       "      <td>...</td>\n",
       "      <td>...</td>\n",
       "      <td>...</td>\n",
       "      <td>...</td>\n",
       "      <td>...</td>\n",
       "      <td>...</td>\n",
       "      <td>...</td>\n",
       "      <td>...</td>\n",
       "      <td>...</td>\n",
       "      <td>...</td>\n",
       "    </tr>\n",
       "    <tr>\n",
       "      <th>413</th>\n",
       "      <td>1305</td>\n",
       "      <td>3</td>\n",
       "      <td>Spector, Mr. Woolf</td>\n",
       "      <td>male</td>\n",
       "      <td>NaN</td>\n",
       "      <td>0</td>\n",
       "      <td>0</td>\n",
       "      <td>A.5. 3236</td>\n",
       "      <td>8.0500</td>\n",
       "      <td>NaN</td>\n",
       "      <td>S</td>\n",
       "    </tr>\n",
       "    <tr>\n",
       "      <th>414</th>\n",
       "      <td>1306</td>\n",
       "      <td>1</td>\n",
       "      <td>Oliva y Ocana, Dona. Fermina</td>\n",
       "      <td>female</td>\n",
       "      <td>39.0</td>\n",
       "      <td>0</td>\n",
       "      <td>0</td>\n",
       "      <td>PC 17758</td>\n",
       "      <td>108.9000</td>\n",
       "      <td>C105</td>\n",
       "      <td>C</td>\n",
       "    </tr>\n",
       "    <tr>\n",
       "      <th>415</th>\n",
       "      <td>1307</td>\n",
       "      <td>3</td>\n",
       "      <td>Saether, Mr. Simon Sivertsen</td>\n",
       "      <td>male</td>\n",
       "      <td>38.5</td>\n",
       "      <td>0</td>\n",
       "      <td>0</td>\n",
       "      <td>SOTON/O.Q. 3101262</td>\n",
       "      <td>7.2500</td>\n",
       "      <td>NaN</td>\n",
       "      <td>S</td>\n",
       "    </tr>\n",
       "    <tr>\n",
       "      <th>416</th>\n",
       "      <td>1308</td>\n",
       "      <td>3</td>\n",
       "      <td>Ware, Mr. Frederick</td>\n",
       "      <td>male</td>\n",
       "      <td>NaN</td>\n",
       "      <td>0</td>\n",
       "      <td>0</td>\n",
       "      <td>359309</td>\n",
       "      <td>8.0500</td>\n",
       "      <td>NaN</td>\n",
       "      <td>S</td>\n",
       "    </tr>\n",
       "    <tr>\n",
       "      <th>417</th>\n",
       "      <td>1309</td>\n",
       "      <td>3</td>\n",
       "      <td>Peter, Master. Michael J</td>\n",
       "      <td>male</td>\n",
       "      <td>NaN</td>\n",
       "      <td>1</td>\n",
       "      <td>1</td>\n",
       "      <td>2668</td>\n",
       "      <td>22.3583</td>\n",
       "      <td>NaN</td>\n",
       "      <td>C</td>\n",
       "    </tr>\n",
       "  </tbody>\n",
       "</table>\n",
       "<p>418 rows × 11 columns</p>\n",
       "</div>"
      ],
      "text/plain": [
       "     PassengerId  Pclass                                          Name  \\\n",
       "0            892       3                              Kelly, Mr. James   \n",
       "1            893       3              Wilkes, Mrs. James (Ellen Needs)   \n",
       "2            894       2                     Myles, Mr. Thomas Francis   \n",
       "3            895       3                              Wirz, Mr. Albert   \n",
       "4            896       3  Hirvonen, Mrs. Alexander (Helga E Lindqvist)   \n",
       "..           ...     ...                                           ...   \n",
       "413         1305       3                            Spector, Mr. Woolf   \n",
       "414         1306       1                  Oliva y Ocana, Dona. Fermina   \n",
       "415         1307       3                  Saether, Mr. Simon Sivertsen   \n",
       "416         1308       3                           Ware, Mr. Frederick   \n",
       "417         1309       3                      Peter, Master. Michael J   \n",
       "\n",
       "        Sex   Age  SibSp  Parch              Ticket      Fare Cabin Embarked  \n",
       "0      male  34.5      0      0              330911    7.8292   NaN        Q  \n",
       "1    female  47.0      1      0              363272    7.0000   NaN        S  \n",
       "2      male  62.0      0      0              240276    9.6875   NaN        Q  \n",
       "3      male  27.0      0      0              315154    8.6625   NaN        S  \n",
       "4    female  22.0      1      1             3101298   12.2875   NaN        S  \n",
       "..      ...   ...    ...    ...                 ...       ...   ...      ...  \n",
       "413    male   NaN      0      0           A.5. 3236    8.0500   NaN        S  \n",
       "414  female  39.0      0      0            PC 17758  108.9000  C105        C  \n",
       "415    male  38.5      0      0  SOTON/O.Q. 3101262    7.2500   NaN        S  \n",
       "416    male   NaN      0      0              359309    8.0500   NaN        S  \n",
       "417    male   NaN      1      1                2668   22.3583   NaN        C  \n",
       "\n",
       "[418 rows x 11 columns]"
      ]
     },
     "execution_count": 3,
     "metadata": {},
     "output_type": "execute_result"
    }
   ],
   "source": [
    "test_data"
   ]
  },
  {
   "cell_type": "markdown",
   "id": "67e4a100",
   "metadata": {
    "papermill": {
     "duration": 0.006094,
     "end_time": "2024-11-21T18:17:41.199548",
     "exception": false,
     "start_time": "2024-11-21T18:17:41.193454",
     "status": "completed"
    },
    "tags": []
   },
   "source": [
    "<div class=\"alert alert-block alert-info\">\r\n",
    "  <h2>Exploratory Data Analysis (EDA)<h2>8\r\n",
    "  4.9\r\n",
    "</div>"
   ]
  },
  {
   "cell_type": "code",
   "execution_count": 4,
   "id": "42d81fdd",
   "metadata": {
    "execution": {
     "iopub.execute_input": "2024-11-21T18:17:41.214404Z",
     "iopub.status.busy": "2024-11-21T18:17:41.213651Z",
     "iopub.status.idle": "2024-11-21T18:17:41.223803Z",
     "shell.execute_reply": "2024-11-21T18:17:41.222832Z"
    },
    "papermill": {
     "duration": 0.020146,
     "end_time": "2024-11-21T18:17:41.226178",
     "exception": false,
     "start_time": "2024-11-21T18:17:41.206032",
     "status": "completed"
    },
    "tags": []
   },
   "outputs": [
    {
     "name": "stdout",
     "output_type": "stream",
     "text": [
      "PassengerId      0\n",
      "Survived         0\n",
      "Pclass           0\n",
      "Name             0\n",
      "Sex              0\n",
      "Age            177\n",
      "SibSp            0\n",
      "Parch            0\n",
      "Ticket           0\n",
      "Fare             0\n",
      "Cabin          687\n",
      "Embarked         2\n",
      "dtype: int64\n"
     ]
    }
   ],
   "source": [
    "# Check for missing values\n",
    "print(train_data.isnull().sum())\n"
   ]
  },
  {
   "cell_type": "code",
   "execution_count": 5,
   "id": "b55b805b",
   "metadata": {
    "execution": {
     "iopub.execute_input": "2024-11-21T18:17:41.241453Z",
     "iopub.status.busy": "2024-11-21T18:17:41.241086Z",
     "iopub.status.idle": "2024-11-21T18:17:41.486231Z",
     "shell.execute_reply": "2024-11-21T18:17:41.485226Z"
    },
    "papermill": {
     "duration": 0.255583,
     "end_time": "2024-11-21T18:17:41.488731",
     "exception": false,
     "start_time": "2024-11-21T18:17:41.233148",
     "status": "completed"
    },
    "tags": []
   },
   "outputs": [
    {
     "data": {
      "image/png": "[encoded data removed]",
      "text/plain": [
       "<Figure size 640x480 with 1 Axes>"
      ]
     },
     "metadata": {},
     "output_type": "display_data"
    }
   ],
   "source": [
    "# Visualize survival rates by features\n",
    "sns.countplot(data=train_data, x='Survived', hue='Sex')\n",
    "plt.show()\n",
    "\n"
   ]
  },
  {
   "cell_type": "code",
   "execution_count": 6,
   "id": "3cf87487",
   "metadata": {
    "execution": {
     "iopub.execute_input": "2024-11-21T18:17:41.505521Z",
     "iopub.status.busy": "2024-11-21T18:17:41.504890Z",
     "iopub.status.idle": "2024-11-21T18:17:41.849013Z",
     "shell.execute_reply": "2024-11-21T18:17:41.848023Z"
    },
    "papermill": {
     "duration": 0.355353,
     "end_time": "2024-11-21T18:17:41.851650",
     "exception": false,
     "start_time": "2024-11-21T18:17:41.496297",
     "status": "completed"
    },
    "tags": []
   },
   "outputs": [
    {
     "name": "stderr",
     "output_type": "stream",
     "text": [
      "/opt/conda/lib/python3.10/site-packages/seaborn/_oldcore.py:1119: FutureWarning: use_inf_as_na option is deprecated and will be removed in a future version. Convert inf values to NaN before operating instead.\n",
      "  with pd.option_context('mode.use_inf_as_na', True):\n"
     ]
    },
    {
     "data": {
      "image/png": "[encoded data removed]",
      "text/plain": [
       "<Figure size 640x480 with 1 Axes>"
      ]
     },
     "metadata": {},
     "output_type": "display_data"
    }
   ],
   "source": [
    "sns.histplot(train_data['Age'], kde=True, bins=30)\n",
    "plt.title('Age Distribution')\n",
    "plt.show()\n"
   ]
  },
  {
   "cell_type": "code",
   "execution_count": 7,
   "id": "e5f736a0",
   "metadata": {
    "execution": {
     "iopub.execute_input": "2024-11-21T18:17:41.868663Z",
     "iopub.status.busy": "2024-11-21T18:17:41.868315Z",
     "iopub.status.idle": "2024-11-21T18:17:42.102498Z",
     "shell.execute_reply": "2024-11-21T18:17:42.101315Z"
    },
    "papermill": {
     "duration": 0.245372,
     "end_time": "2024-11-21T18:17:42.104783",
     "exception": false,
     "start_time": "2024-11-21T18:17:41.859411",
     "status": "completed"
    },
    "tags": []
   },
   "outputs": [
    {
     "data": {
      "image/png": "[encoded data removed]",
      "text/plain": [
       "<Figure size 640x480 with 1 Axes>"
      ]
     },
     "metadata": {},
     "output_type": "display_data"
    }
   ],
   "source": [
    "sns.barplot(data=train_data, x='Pclass', y='Survived')\n",
    "plt.title('Survival Rate by Class')\n",
    "plt.show()"
   ]
  },
  {
   "cell_type": "markdown",
   "id": "19d78498",
   "metadata": {
    "papermill": {
     "duration": 0.007954,
     "end_time": "2024-11-21T18:17:42.120564",
     "exception": false,
     "start_time": "2024-11-21T18:17:42.112610",
     "status": "completed"
    },
    "tags": []
   },
   "source": [
    "<div class=\"alert alert-block alert-danger\">\r\n",
    "   <h2> Data Cleaning <h2>4.9\r\n",
    "</div>"
   ]
  },
  {
   "cell_type": "code",
   "execution_count": 8,
   "id": "d6d4b8bf",
   "metadata": {
    "execution": {
     "iopub.execute_input": "2024-11-21T18:17:42.137727Z",
     "iopub.status.busy": "2024-11-21T18:17:42.137337Z",
     "iopub.status.idle": "2024-11-21T18:17:42.145379Z",
     "shell.execute_reply": "2024-11-21T18:17:42.144328Z"
    },
    "papermill": {
     "duration": 0.019386,
     "end_time": "2024-11-21T18:17:42.147717",
     "exception": false,
     "start_time": "2024-11-21T18:17:42.128331",
     "status": "completed"
    },
    "tags": []
   },
   "outputs": [],
   "source": [
    "train_data['Age'] = train_data['Age'].fillna(train_data['Age'].median())\n",
    "test_data['Age'] = test_data['Age'].fillna(test_data['Age'].median())\n"
   ]
  },
  {
   "cell_type": "code",
   "execution_count": 9,
   "id": "fa5d171c",
   "metadata": {
    "execution": {
     "iopub.execute_input": "2024-11-21T18:17:42.165235Z",
     "iopub.status.busy": "2024-11-21T18:17:42.164872Z",
     "iopub.status.idle": "2024-11-21T18:17:42.174278Z",
     "shell.execute_reply": "2024-11-21T18:17:42.173235Z"
    },
    "papermill": {
     "duration": 0.020779,
     "end_time": "2024-11-21T18:17:42.176469",
     "exception": false,
     "start_time": "2024-11-21T18:17:42.155690",
     "status": "completed"
    },
    "tags": []
   },
   "outputs": [
    {
     "data": {
      "text/plain": [
       "0      S\n",
       "1      C\n",
       "2      S\n",
       "3      S\n",
       "4      S\n",
       "      ..\n",
       "886    S\n",
       "887    S\n",
       "888    S\n",
       "889    C\n",
       "890    Q\n",
       "Name: Embarked, Length: 891, dtype: object"
      ]
     },
     "execution_count": 9,
     "metadata": {},
     "output_type": "execute_result"
    }
   ],
   "source": [
    "# Fill missing Embarked with mode\n",
    "train_data['Embarked'].fillna(train_data['Embarked'].mode()[0])"
   ]
  },
  {
   "cell_type": "code",
   "execution_count": 10,
   "id": "6572f37c",
   "metadata": {
    "execution": {
     "iopub.execute_input": "2024-11-21T18:17:42.193825Z",
     "iopub.status.busy": "2024-11-21T18:17:42.193450Z",
     "iopub.status.idle": "2024-11-21T18:17:42.202466Z",
     "shell.execute_reply": "2024-11-21T18:17:42.201397Z"
    },
    "papermill": {
     "duration": 0.020316,
     "end_time": "2024-11-21T18:17:42.204637",
     "exception": false,
     "start_time": "2024-11-21T18:17:42.184321",
     "status": "completed"
    },
    "tags": []
   },
   "outputs": [
    {
     "data": {
      "text/plain": [
       "0        7.8292\n",
       "1        7.0000\n",
       "2        9.6875\n",
       "3        8.6625\n",
       "4       12.2875\n",
       "         ...   \n",
       "413      8.0500\n",
       "414    108.9000\n",
       "415      7.2500\n",
       "416      8.0500\n",
       "417     22.3583\n",
       "Name: Fare, Length: 418, dtype: float64"
      ]
     },
     "execution_count": 10,
     "metadata": {},
     "output_type": "execute_result"
    }
   ],
   "source": [
    "# Fill missing Fare in test data with median\n",
    "test_data['Fare'].fillna(test_data['Fare'].median())"
   ]
  },
  {
   "cell_type": "markdown",
   "id": "b982a9cd",
   "metadata": {
    "papermill": {
     "duration": 0.008298,
     "end_time": "2024-11-21T18:17:42.221020",
     "exception": false,
     "start_time": "2024-11-21T18:17:42.212722",
     "status": "completed"
    },
    "tags": []
   },
   "source": [
    "<div class=\"alert alert-block alert-info\" style=\"background-color: #f0f8ff; color: #2a4d69; border: 2px solid #008b8b; border-radius: 10px; padding: 15px; font-family: Arial, sans-serif;\">\n",
    "    <h2>Feature Engineering<h2>\n",
    "</div>div>"
   ]
  },
  {
   "cell_type": "code",
   "execution_count": 11,
   "id": "9e4c8997",
   "metadata": {
    "execution": {
     "iopub.execute_input": "2024-11-21T18:17:42.238996Z",
     "iopub.status.busy": "2024-11-21T18:17:42.238279Z",
     "iopub.status.idle": "2024-11-21T18:17:42.248155Z",
     "shell.execute_reply": "2024-11-21T18:17:42.246827Z"
    },
    "papermill": {
     "duration": 0.021277,
     "end_time": "2024-11-21T18:17:42.250399",
     "exception": false,
     "start_time": "2024-11-21T18:17:42.229122",
     "status": "completed"
    },
    "tags": []
   },
   "outputs": [],
   "source": [
    "# Create a Title feature\n",
    "train_data['Title'] = train_data['Name'].str.extract(' ([A-Za-z]+)\\.')\n",
    "test_data['Title'] = test_data['Name'].str.extract(' ([A-Za-z]+)\\.')\n"
   ]
  },
  {
   "cell_type": "code",
   "execution_count": 12,
   "id": "7e4be96c",
   "metadata": {
    "execution": {
     "iopub.execute_input": "2024-11-21T18:17:42.268357Z",
     "iopub.status.busy": "2024-11-21T18:17:42.267654Z",
     "iopub.status.idle": "2024-11-21T18:17:42.277984Z",
     "shell.execute_reply": "2024-11-21T18:17:42.277065Z"
    },
    "papermill": {
     "duration": 0.021729,
     "end_time": "2024-11-21T18:17:42.280142",
     "exception": false,
     "start_time": "2024-11-21T18:17:42.258413",
     "status": "completed"
    },
    "tags": []
   },
   "outputs": [],
   "source": [
    "# Simplify rare titles\n",
    "rare_titles = ['Lady', 'Countess', 'Capt', 'Col', 'Don', 'Dr', 'Major', 'Rev', 'Sir', 'Jonkheer', 'Dona']\n",
    "train_data['Title'] = train_data['Title'].replace(rare_titles, 'Rare')\n",
    "test_data['Title'] = test_data['Title'].replace(rare_titles, 'Rare')"
   ]
  },
  {
   "cell_type": "code",
   "execution_count": 13,
   "id": "358586b9",
   "metadata": {
    "execution": {
     "iopub.execute_input": "2024-11-21T18:17:42.298001Z",
     "iopub.status.busy": "2024-11-21T18:17:42.297264Z",
     "iopub.status.idle": "2024-11-21T18:17:42.306640Z",
     "shell.execute_reply": "2024-11-21T18:17:42.305610Z"
    },
    "papermill": {
     "duration": 0.020732,
     "end_time": "2024-11-21T18:17:42.308931",
     "exception": false,
     "start_time": "2024-11-21T18:17:42.288199",
     "status": "completed"
    },
    "tags": []
   },
   "outputs": [],
   "source": [
    "# Encode categorical variables\n",
    "for col in ['Sex', 'Embarked', 'Title']:\n",
    "    encoder = LabelEncoder()\n",
    "    train_data[col] = encoder.fit_transform(train_data[col])\n",
    "    test_data[col] = encoder.transform(test_data[col])\n"
   ]
  },
  {
   "cell_type": "code",
   "execution_count": 14,
   "id": "8f86a4e9",
   "metadata": {
    "execution": {
     "iopub.execute_input": "2024-11-21T18:17:42.326330Z",
     "iopub.status.busy": "2024-11-21T18:17:42.325937Z",
     "iopub.status.idle": "2024-11-21T18:17:42.333131Z",
     "shell.execute_reply": "2024-11-21T18:17:42.332100Z"
    },
    "papermill": {
     "duration": 0.018315,
     "end_time": "2024-11-21T18:17:42.335229",
     "exception": false,
     "start_time": "2024-11-21T18:17:42.316914",
     "status": "completed"
    },
    "tags": []
   },
   "outputs": [],
   "source": [
    "# Drop unnecessary columns\n",
    "train_data.drop(['Name', 'Ticket', 'Cabin'], axis=1, inplace=True)\n",
    "test_data.drop(['Name', 'Ticket', 'Cabin'], axis=1, inplace=True)\n"
   ]
  },
  {
   "cell_type": "markdown",
   "id": "e88a79cb",
   "metadata": {
    "papermill": {
     "duration": 0.008241,
     "end_time": "2024-11-21T18:17:42.351779",
     "exception": false,
     "start_time": "2024-11-21T18:17:42.343538",
     "status": "completed"
    },
    "tags": []
   },
   "source": [
    "<div class=\"alert alert-block alert-info\" \r\n",
    "     style=\"background-color: #000f; \r\n",
    "            color: #ffcc00; \r\n",
    "            border: 2px solid #008b8b; \r\n",
    "            border-radius: 10px; \r\n",
    "            padding: 15px; \r\n",
    "            font-family: Arial, sans-serif;\">\r\n",
    "    <h2>Prepare Data for Modeling</h2>\r\n",
    "</div>\r\n"
   ]
  },
  {
   "cell_type": "code",
   "execution_count": 15,
   "id": "79de5478",
   "metadata": {
    "execution": {
     "iopub.execute_input": "2024-11-21T18:17:42.369204Z",
     "iopub.status.busy": "2024-11-21T18:17:42.368780Z",
     "iopub.status.idle": "2024-11-21T18:17:42.376375Z",
     "shell.execute_reply": "2024-11-21T18:17:42.375288Z"
    },
    "papermill": {
     "duration": 0.019304,
     "end_time": "2024-11-21T18:17:42.378992",
     "exception": false,
     "start_time": "2024-11-21T18:17:42.359688",
     "status": "completed"
    },
    "tags": []
   },
   "outputs": [],
   "source": [
    "X = train_data.drop(['Survived', 'PassengerId'], axis=1)\n",
    "y = train_data['Survived']\n",
    "\n",
    "# For test data\n",
    "X_test = test_data.drop(['PassengerId'], axis=1)\n"
   ]
  },
  {
   "cell_type": "markdown",
   "id": "9f030439",
   "metadata": {
    "papermill": {
     "duration": 0.007735,
     "end_time": "2024-11-21T18:17:42.395530",
     "exception": false,
     "start_time": "2024-11-21T18:17:42.387795",
     "status": "completed"
    },
    "tags": []
   },
   "source": [
    "<div class=\"alert alert-block alert-info\" \n",
    "     style=\"background-color: #0000; \n",
    "            color: #ffcc00; \n",
    "            border: 2px solid #008b8b; \n",
    "            border-radius: 10px; \n",
    "            padding: 15px; \n",
    "            font-family: Arial, sans-serif;\">\n",
    "    <h2>Model Building</h2>\n",
    "</div>\n"
   ]
  },
  {
   "cell_type": "code",
   "execution_count": 16,
   "id": "f79b99ef",
   "metadata": {
    "execution": {
     "iopub.execute_input": "2024-11-21T18:17:42.413472Z",
     "iopub.status.busy": "2024-11-21T18:17:42.412737Z",
     "iopub.status.idle": "2024-11-21T18:17:42.424686Z",
     "shell.execute_reply": "2024-11-21T18:17:42.423843Z"
    },
    "papermill": {
     "duration": 0.023593,
     "end_time": "2024-11-21T18:17:42.427035",
     "exception": false,
     "start_time": "2024-11-21T18:17:42.403442",
     "status": "completed"
    },
    "tags": []
   },
   "outputs": [],
   "source": [
    "# Split training data\n",
    "X_train, X_val, y_train, y_val = train_test_split(X, y, test_size=0.2, random_state=42)\n"
   ]
  },
  {
   "cell_type": "code",
   "execution_count": 17,
   "id": "3ad43c4f",
   "metadata": {
    "execution": {
     "iopub.execute_input": "2024-11-21T18:17:42.446188Z",
     "iopub.status.busy": "2024-11-21T18:17:42.445219Z",
     "iopub.status.idle": "2024-11-21T18:17:42.649565Z",
     "shell.execute_reply": "2024-11-21T18:17:42.648504Z"
    },
    "papermill": {
     "duration": 0.216781,
     "end_time": "2024-11-21T18:17:42.651924",
     "exception": false,
     "start_time": "2024-11-21T18:17:42.435143",
     "status": "completed"
    },
    "tags": []
   },
   "outputs": [
    {
     "data": {
      "text/html": [
       "<style>#sk-container-id-1 {color: black;background-color: white;}#sk-container-id-1 pre{padding: 0;}#sk-container-id-1 div.sk-toggleable {background-color: white;}#sk-container-id-1 label.sk-toggleable__label {cursor: pointer;display: block;width: 100%;margin-bottom: 0;padding: 0.3em;box-sizing: border-box;text-align: center;}#sk-container-id-1 label.sk-toggleable__label-arrow:before {content: \"▸\";float: left;margin-right: 0.25em;color: #696969;}#sk-container-id-1 label.sk-toggleable__label-arrow:hover:before {color: black;}#sk-container-id-1 div.sk-estimator:hover label.sk-toggleable__label-arrow:before {color: black;}#sk-container-id-1 div.sk-toggleable__content {max-height: 0;max-width: 0;overflow: hidden;text-align: left;background-color: #f0f8ff;}#sk-container-id-1 div.sk-toggleable__content pre {margin: 0.2em;color: black;border-radius: 0.25em;background-color: #f0f8ff;}#sk-container-id-1 input.sk-toggleable__control:checked~div.sk-toggleable__content {max-height: 200px;max-width: 100%;overflow: auto;}#sk-container-id-1 input.sk-toggleable__control:checked~label.sk-toggleable__label-arrow:before {content: \"▾\";}#sk-container-id-1 div.sk-estimator input.sk-toggleable__control:checked~label.sk-toggleable__label {background-color: #d4ebff;}#sk-container-id-1 div.sk-label input.sk-toggleable__control:checked~label.sk-toggleable__label {background-color: #d4ebff;}#sk-container-id-1 input.sk-hidden--visually {border: 0;clip: rect(1px 1px 1px 1px);clip: rect(1px, 1px, 1px, 1px);height: 1px;margin: -1px;overflow: hidden;padding: 0;position: absolute;width: 1px;}#sk-container-id-1 div.sk-estimator {font-family: monospace;background-color: #f0f8ff;border: 1px dotted black;border-radius: 0.25em;box-sizing: border-box;margin-bottom: 0.5em;}#sk-container-id-1 div.sk-estimator:hover {background-color: #d4ebff;}#sk-container-id-1 div.sk-parallel-item::after {content: \"\";width: 100%;border-bottom: 1px solid gray;flex-grow: 1;}#sk-container-id-1 div.sk-label:hover label.sk-toggleable__label {background-color: #d4ebff;}#sk-container-id-1 div.sk-serial::before {content: \"\";position: absolute;border-left: 1px solid gray;box-sizing: border-box;top: 0;bottom: 0;left: 50%;z-index: 0;}#sk-container-id-1 div.sk-serial {display: flex;flex-direction: column;align-items: center;background-color: white;padding-right: 0.2em;padding-left: 0.2em;position: relative;}#sk-container-id-1 div.sk-item {position: relative;z-index: 1;}#sk-container-id-1 div.sk-parallel {display: flex;align-items: stretch;justify-content: center;background-color: white;position: relative;}#sk-container-id-1 div.sk-item::before, #sk-container-id-1 div.sk-parallel-item::before {content: \"\";position: absolute;border-left: 1px solid gray;box-sizing: border-box;top: 0;bottom: 0;left: 50%;z-index: -1;}#sk-container-id-1 div.sk-parallel-item {display: flex;flex-direction: column;z-index: 1;position: relative;background-color: white;}#sk-container-id-1 div.sk-parallel-item:first-child::after {align-self: flex-end;width: 50%;}#sk-container-id-1 div.sk-parallel-item:last-child::after {align-self: flex-start;width: 50%;}#sk-container-id-1 div.sk-parallel-item:only-child::after {width: 0;}#sk-container-id-1 div.sk-dashed-wrapped {border: 1px dashed gray;margin: 0 0.4em 0.5em 0.4em;box-sizing: border-box;padding-bottom: 0.4em;background-color: white;}#sk-container-id-1 div.sk-label label {font-family: monospace;font-weight: bold;display: inline-block;line-height: 1.2em;}#sk-container-id-1 div.sk-label-container {text-align: center;}#sk-container-id-1 div.sk-container {/* jupyter's `normalize.less` sets `[hidden] { display: none; }` but bootstrap.min.css set `[hidden] { display: none !important; }` so we also need the `!important` here to be able to override the default hidden behavior on the sphinx rendered scikit-learn.org. See: https://github.com/scikit-learn/scikit-learn/issues/21755 */display: inline-block !important;position: relative;}#sk-container-id-1 div.sk-text-repr-fallback {display: none;}</style><div id=\"sk-container-id-1\" class=\"sk-top-container\"><div class=\"sk-text-repr-fallback\"><pre>RandomForestClassifier(random_state=42)</pre><b>In a Jupyter environment, please rerun this cell to show the HTML representation or trust the notebook. <br />On GitHub, the HTML representation is unable to render, please try loading this page with nbviewer.org.</b></div><div class=\"sk-container\" hidden><div class=\"sk-item\"><div class=\"sk-estimator sk-toggleable\"><input class=\"sk-toggleable__control sk-hidden--visually\" id=\"sk-estimator-id-1\" type=\"checkbox\" checked><label for=\"sk-estimator-id-1\" class=\"sk-toggleable__label sk-toggleable__label-arrow\">RandomForestClassifier</label><div class=\"sk-toggleable__content\"><pre>RandomForestClassifier(random_state=42)</pre></div></div></div></div></div>"
      ],
      "text/plain": [
       "RandomForestClassifier(random_state=42)"
      ]
     },
     "execution_count": 17,
     "metadata": {},
     "output_type": "execute_result"
    }
   ],
   "source": [
    "# Initialize model\n",
    "model = RandomForestClassifier(n_estimators=100, random_state=42)\n",
    "model.fit(X_train, y_train)\n"
   ]
  },
  {
   "cell_type": "code",
   "execution_count": 18,
   "id": "aec8d254",
   "metadata": {
    "execution": {
     "iopub.execute_input": "2024-11-21T18:17:42.671511Z",
     "iopub.status.busy": "2024-11-21T18:17:42.670551Z",
     "iopub.status.idle": "2024-11-21T18:17:42.697139Z",
     "shell.execute_reply": "2024-11-21T18:17:42.695776Z"
    },
    "papermill": {
     "duration": 0.038837,
     "end_time": "2024-11-21T18:17:42.699211",
     "exception": false,
     "start_time": "2024-11-21T18:17:42.660374",
     "status": "completed"
    },
    "tags": []
   },
   "outputs": [
    {
     "name": "stdout",
     "output_type": "stream",
     "text": [
      "Accuracy: 0.8324022346368715\n",
      "              precision    recall  f1-score   support\n",
      "\n",
      "           0       0.85      0.87      0.86       105\n",
      "           1       0.81      0.78      0.79        74\n",
      "\n",
      "    accuracy                           0.83       179\n",
      "   macro avg       0.83      0.83      0.83       179\n",
      "weighted avg       0.83      0.83      0.83       179\n",
      "\n"
     ]
    }
   ],
   "source": [
    "# Evaluate on validation set\n",
    "y_pred = model.predict(X_val)\n",
    "print(\"Accuracy:\", accuracy_score(y_val, y_pred))\n",
    "print(classification_report(y_val, y_pred))"
   ]
  },
  {
   "cell_type": "markdown",
   "id": "238f73fc",
   "metadata": {
    "papermill": {
     "duration": 0.00819,
     "end_time": "2024-11-21T18:17:42.716006",
     "exception": false,
     "start_time": "2024-11-21T18:17:42.707816",
     "status": "completed"
    },
    "tags": []
   },
   "source": [
    "<div class=\"alert alert-block alert-info\" \n",
    "     style=\"background-color: #0011; \n",
    "            color: #ffcc00; \n",
    "            border: 2px solid #008b8b; \n",
    "            border-radius: 10px; \n",
    "            padding: 15px; \n",
    "            font-family: Arial, sans-serif;\">\n",
    "    <h2>Make Predictions</h2>\n",
    "</div>\n"
   ]
  },
  {
   "cell_type": "code",
   "execution_count": 19,
   "id": "6144b33c",
   "metadata": {
    "execution": {
     "iopub.execute_input": "2024-11-21T18:17:42.734864Z",
     "iopub.status.busy": "2024-11-21T18:17:42.733788Z",
     "iopub.status.idle": "2024-11-21T18:17:42.750290Z",
     "shell.execute_reply": "2024-11-21T18:17:42.749006Z"
    },
    "papermill": {
     "duration": 0.028704,
     "end_time": "2024-11-21T18:17:42.752926",
     "exception": false,
     "start_time": "2024-11-21T18:17:42.724222",
     "status": "completed"
    },
    "tags": []
   },
   "outputs": [],
   "source": [
    "from sklearn.impute import SimpleImputer\n",
    "\n",
    "# Example: Replace NaN with the median of each column\n",
    "imputer = SimpleImputer(strategy='median')\n",
    "X_test = imputer.fit_transform(X_test)\n"
   ]
  },
  {
   "cell_type": "code",
   "execution_count": 20,
   "id": "b4ebaf6e",
   "metadata": {
    "execution": {
     "iopub.execute_input": "2024-11-21T18:17:42.772273Z",
     "iopub.status.busy": "2024-11-21T18:17:42.771282Z",
     "iopub.status.idle": "2024-11-21T18:17:42.778976Z",
     "shell.execute_reply": "2024-11-21T18:17:42.778107Z"
    },
    "papermill": {
     "duration": 0.019291,
     "end_time": "2024-11-21T18:17:42.781016",
     "exception": false,
     "start_time": "2024-11-21T18:17:42.761725",
     "status": "completed"
    },
    "tags": []
   },
   "outputs": [],
   "source": [
    "from sklearn.impute import SimpleImputer\n",
    "import pandas as pd\n",
    "\n",
    "# Assuming X_test is originally a DataFrame\n",
    "imputer = SimpleImputer(strategy='median')\n",
    "X_test = pd.DataFrame(imputer.fit_transform(X_test))\n"
   ]
  },
  {
   "cell_type": "code",
   "execution_count": 21,
   "id": "c9f73d07",
   "metadata": {
    "execution": {
     "iopub.execute_input": "2024-11-21T18:17:42.800669Z",
     "iopub.status.busy": "2024-11-21T18:17:42.800305Z",
     "iopub.status.idle": "2024-11-21T18:17:42.806969Z",
     "shell.execute_reply": "2024-11-21T18:17:42.805925Z"
    },
    "papermill": {
     "duration": 0.018216,
     "end_time": "2024-11-21T18:17:42.808862",
     "exception": false,
     "start_time": "2024-11-21T18:17:42.790646",
     "status": "completed"
    },
    "tags": []
   },
   "outputs": [
    {
     "name": "stdout",
     "output_type": "stream",
     "text": [
      "0    0\n",
      "1    0\n",
      "2    0\n",
      "3    0\n",
      "4    0\n",
      "5    0\n",
      "6    0\n",
      "7    0\n",
      "dtype: int64\n"
     ]
    }
   ],
   "source": [
    "print(X_test.isnull().sum())  # Should show 0 for all columns\n"
   ]
  },
  {
   "cell_type": "code",
   "execution_count": 22,
   "id": "0438f69d",
   "metadata": {
    "execution": {
     "iopub.execute_input": "2024-11-21T18:17:42.827137Z",
     "iopub.status.busy": "2024-11-21T18:17:42.826696Z",
     "iopub.status.idle": "2024-11-21T18:17:42.833143Z",
     "shell.execute_reply": "2024-11-21T18:17:42.831855Z"
    },
    "papermill": {
     "duration": 0.018062,
     "end_time": "2024-11-21T18:17:42.835318",
     "exception": false,
     "start_time": "2024-11-21T18:17:42.817256",
     "status": "completed"
    },
    "tags": []
   },
   "outputs": [],
   "source": [
    "X_test = pd.DataFrame(X_test)  # Replace 'original_columns' with the column names.\n",
    "X_test = X_test.dropna()  # Now this will work\n"
   ]
  },
  {
   "cell_type": "code",
   "execution_count": 23,
   "id": "61b3b0b5",
   "metadata": {
    "execution": {
     "iopub.execute_input": "2024-11-21T18:17:42.854277Z",
     "iopub.status.busy": "2024-11-21T18:17:42.853438Z",
     "iopub.status.idle": "2024-11-21T18:17:42.878333Z",
     "shell.execute_reply": "2024-11-21T18:17:42.877247Z"
    },
    "papermill": {
     "duration": 0.037387,
     "end_time": "2024-11-21T18:17:42.881218",
     "exception": false,
     "start_time": "2024-11-21T18:17:42.843831",
     "status": "completed"
    },
    "tags": []
   },
   "outputs": [
    {
     "name": "stdout",
     "output_type": "stream",
     "text": [
      "Submission file created.\n"
     ]
    },
    {
     "name": "stderr",
     "output_type": "stream",
     "text": [
      "/opt/conda/lib/python3.10/site-packages/sklearn/base.py:439: UserWarning: X does not have valid feature names, but RandomForestClassifier was fitted with feature names\n",
      "  warnings.warn(\n"
     ]
    }
   ],
   "source": [
    "# Predict on test data\n",
    "predictions = model.predict(X_test)\n",
    "\n",
    "# Prepare submission\n",
    "submission = pd.DataFrame({\n",
    "    'PassengerId': test_data['PassengerId'],\n",
    "    'Survived': predictions\n",
    "})\n",
    "\n",
    "# Save to CSV\n",
    "submission.to_csv('submission.csv', index=False)\n",
    "print(\"Submission file created.\")\n"
   ]
  },
  {
   "cell_type": "code",
   "execution_count": null,
   "id": "fc4fa677",
   "metadata": {
    "papermill": {
     "duration": 0.008206,
     "end_time": "2024-11-21T18:17:42.898527",
     "exception": false,
     "start_time": "2024-11-21T18:17:42.890321",
     "status": "completed"
    },
    "tags": []
   },
   "outputs": [],
   "source": []
  }
 ],
 "metadata": {
  "kaggle": {
   "accelerator": "none",
   "dataSources": [
    {
     "databundleVersionId": 26502,
     "sourceId": 3136,
     "sourceType": "competition"
    }
   ],
   "dockerImageVersionId": 30786,
   "isGpuEnabled": false,
   "isInternetEnabled": true,
   "language": "python",
   "sourceType": "notebook"
  },
  "kernelspec": {
   "display_name": "Python 3",
   "language": "python",
   "name": "python3"
  },
  "language_info": {
   "codemirror_mode": {
    "name": "ipython",
    "version": 3
   },
   "file_extension": ".py",
   "mimetype": "text/x-python",
   "name": "python",
   "nbconvert_exporter": "python",
   "pygments_lexer": "ipython3",
   "version": "3.10.14"
  },
  "papermill": {
   "default_parameters": {},
   "duration": 8.596078,
   "end_time": "2024-11-21T18:17:43.530767",
   "environment_variables": {},
   "exception": null,
   "input_path": "__notebook__.ipynb",
   "output_path": "__notebook__.ipynb",
   "parameters": {},
   "start_time": "2024-11-21T18:17:34.934689",
   "version": "2.6.0"
  }
 },
 "nbformat": 4,
 "nbformat_minor": 5
}
