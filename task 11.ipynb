{
 "cells": [
  {
   "cell_type": "code",
   "execution_count": null,
   "id": "ba4a2150",
   "metadata": {},
   "outputs": [],
   "source": []
  },
  {
   "cell_type": "markdown",
   "id": "dd02a923",
   "metadata": {},
   "source": [
    "<!DOCTYPE html>\n",
    "<html lang=\"en\">\n",
    "<head>\n",
    "    <meta charset=\"UTF-8\">\n",
    "    <meta name=\"viewport\" content=\"width=device-width, initial-scale=1.0\">\n",
    "    <title>Task 11</title>\n",
    "</head>\n",
    "<body style=\"background-color: #fffbcc;\"> <!-- Bright background -->\n",
    "    <h1 style=\"color: #ff5733;\">Task 11</h1> <!-- Bright orange text -->\n",
    "    <h3 style=\"color: #3498db;\">Name: Maryam Sharif</h3> <!-- Bright blue text -->\n",
    "    <h3 style=\"color: #2ecc71;\">Rollnumber: BSDSM-F23-038</h3> <!-- Bright green text -->\n",
    "</body>\n",
    "</html>\n"
   ]
  },
  {
   "cell_type": "markdown",
   "id": "4e3900e4",
   "metadata": {},
   "source": [
    "<div class=\"alert alert-block alert-info\">\n",
    "    Using <b>Python </b> v3.8.18\n",
    "    <br>\n",
    "    with <b>Jupyter </b> v7.4.9\n",
    "</div>"
   ]
  },
  {
   "cell_type": "markdown",
   "id": "4a9368ce",
   "metadata": {},
   "source": [
    "# Libraries"
   ]
  },
  {
   "cell_type": "code",
   "execution_count": 1,
   "id": "1430f631",
   "metadata": {},
   "outputs": [],
   "source": [
    "import pandas as pd\n",
    "import numpy as np\n",
    "import pickle\n",
    "\n",
    "from sklearn.svm import SVC\n",
    "from sklearn.metrics import accuracy_score\n",
    "from sklearn.preprocessing import LabelEncoder\n",
    "from sklearn.model_selection import train_test_split"
   ]
  },
  {
   "cell_type": "markdown",
   "id": "c98d3aec",
   "metadata": {},
   "source": [
    "# Data reading / loading"
   ]
  },
  {
   "cell_type": "code",
   "execution_count": 2,
   "id": "bf20352c",
   "metadata": {},
   "outputs": [
    {
     "data": {
      "text/html": [
       "<div>\n",
       "<style scoped>\n",
       "    .dataframe tbody tr th:only-of-type {\n",
       "        vertical-align: middle;\n",
       "    }\n",
       "\n",
       "    .dataframe tbody tr th {\n",
       "        vertical-align: top;\n",
       "    }\n",
       "\n",
       "    .dataframe thead th {\n",
       "        text-align: right;\n",
       "    }\n",
       "</style>\n",
       "<table border=\"1\" class=\"dataframe\">\n",
       "  <thead>\n",
       "    <tr style=\"text-align: right;\">\n",
       "      <th></th>\n",
       "      <th>date</th>\n",
       "      <th>price</th>\n",
       "      <th>bedrooms</th>\n",
       "      <th>bathrooms</th>\n",
       "      <th>sqft_living</th>\n",
       "      <th>sqft_lot</th>\n",
       "      <th>floors</th>\n",
       "      <th>waterfront</th>\n",
       "      <th>view</th>\n",
       "      <th>condition</th>\n",
       "      <th>sqft_above</th>\n",
       "      <th>sqft_basement</th>\n",
       "      <th>yr_built</th>\n",
       "      <th>yr_renovated</th>\n",
       "      <th>street</th>\n",
       "      <th>city</th>\n",
       "      <th>statezip</th>\n",
       "      <th>country</th>\n",
       "    </tr>\n",
       "  </thead>\n",
       "  <tbody>\n",
       "    <tr>\n",
       "      <th>0</th>\n",
       "      <td>5/2/2014 0:00</td>\n",
       "      <td>NaN</td>\n",
       "      <td>3</td>\n",
       "      <td>NaN</td>\n",
       "      <td>1340</td>\n",
       "      <td>7912</td>\n",
       "      <td>1.5</td>\n",
       "      <td>12</td>\n",
       "      <td>0</td>\n",
       "      <td>3</td>\n",
       "      <td>1340</td>\n",
       "      <td>0</td>\n",
       "      <td>1955</td>\n",
       "      <td>2005</td>\n",
       "      <td>18810 Densmore Ave N</td>\n",
       "      <td>Shoreline</td>\n",
       "      <td>WA 98133</td>\n",
       "      <td>USA</td>\n",
       "    </tr>\n",
       "    <tr>\n",
       "      <th>1</th>\n",
       "      <td>5/2/2014 0:00</td>\n",
       "      <td>NaN</td>\n",
       "      <td>5</td>\n",
       "      <td>NaN</td>\n",
       "      <td>3650</td>\n",
       "      <td>9050</td>\n",
       "      <td>2.0</td>\n",
       "      <td>12</td>\n",
       "      <td>4</td>\n",
       "      <td>5</td>\n",
       "      <td>3370</td>\n",
       "      <td>280</td>\n",
       "      <td>1921</td>\n",
       "      <td>0</td>\n",
       "      <td>709 W Blaine St</td>\n",
       "      <td>Seattle</td>\n",
       "      <td>WA 98119</td>\n",
       "      <td>USA</td>\n",
       "    </tr>\n",
       "    <tr>\n",
       "      <th>2</th>\n",
       "      <td>5/2/2014 0:00</td>\n",
       "      <td>342000.0000</td>\n",
       "      <td>3</td>\n",
       "      <td>NaN</td>\n",
       "      <td>1930</td>\n",
       "      <td>11947</td>\n",
       "      <td>1.0</td>\n",
       "      <td>12</td>\n",
       "      <td>0</td>\n",
       "      <td>4</td>\n",
       "      <td>1930</td>\n",
       "      <td>0</td>\n",
       "      <td>1966</td>\n",
       "      <td>0</td>\n",
       "      <td>26206-26214 143rd Ave SE</td>\n",
       "      <td>Kent</td>\n",
       "      <td>WA 98042</td>\n",
       "      <td>USA</td>\n",
       "    </tr>\n",
       "    <tr>\n",
       "      <th>3</th>\n",
       "      <td>5/2/2014 0:00</td>\n",
       "      <td>NaN</td>\n",
       "      <td>3</td>\n",
       "      <td>NaN</td>\n",
       "      <td>2000</td>\n",
       "      <td>8030</td>\n",
       "      <td>1.0</td>\n",
       "      <td>12</td>\n",
       "      <td>0</td>\n",
       "      <td>4</td>\n",
       "      <td>1000</td>\n",
       "      <td>1000</td>\n",
       "      <td>1963</td>\n",
       "      <td>0</td>\n",
       "      <td>857 170th Pl NE</td>\n",
       "      <td>Bellevue</td>\n",
       "      <td>WA 98008</td>\n",
       "      <td>USA</td>\n",
       "    </tr>\n",
       "    <tr>\n",
       "      <th>4</th>\n",
       "      <td>5/2/2014 0:00</td>\n",
       "      <td>550000.0000</td>\n",
       "      <td>4</td>\n",
       "      <td>NaN</td>\n",
       "      <td>1940</td>\n",
       "      <td>10500</td>\n",
       "      <td>1.0</td>\n",
       "      <td>12</td>\n",
       "      <td>0</td>\n",
       "      <td>4</td>\n",
       "      <td>1140</td>\n",
       "      <td>800</td>\n",
       "      <td>1976</td>\n",
       "      <td>1992</td>\n",
       "      <td>9105 170th Ave NE</td>\n",
       "      <td>Redmond</td>\n",
       "      <td>WA 98052</td>\n",
       "      <td>USA</td>\n",
       "    </tr>\n",
       "    <tr>\n",
       "      <th>...</th>\n",
       "      <td>...</td>\n",
       "      <td>...</td>\n",
       "      <td>...</td>\n",
       "      <td>...</td>\n",
       "      <td>...</td>\n",
       "      <td>...</td>\n",
       "      <td>...</td>\n",
       "      <td>...</td>\n",
       "      <td>...</td>\n",
       "      <td>...</td>\n",
       "      <td>...</td>\n",
       "      <td>...</td>\n",
       "      <td>...</td>\n",
       "      <td>...</td>\n",
       "      <td>...</td>\n",
       "      <td>...</td>\n",
       "      <td>...</td>\n",
       "      <td>...</td>\n",
       "    </tr>\n",
       "    <tr>\n",
       "      <th>4595</th>\n",
       "      <td>7/9/2014 0:00</td>\n",
       "      <td>308166.6667</td>\n",
       "      <td>3</td>\n",
       "      <td>1.75</td>\n",
       "      <td>1510</td>\n",
       "      <td>6360</td>\n",
       "      <td>1.0</td>\n",
       "      <td>0</td>\n",
       "      <td>0</td>\n",
       "      <td>4</td>\n",
       "      <td>1510</td>\n",
       "      <td>0</td>\n",
       "      <td>1954</td>\n",
       "      <td>1979</td>\n",
       "      <td>501 N 143rd St</td>\n",
       "      <td>Seattle</td>\n",
       "      <td>WA 98133</td>\n",
       "      <td>USA</td>\n",
       "    </tr>\n",
       "    <tr>\n",
       "      <th>4596</th>\n",
       "      <td>7/9/2014 0:00</td>\n",
       "      <td>534333.3333</td>\n",
       "      <td>3</td>\n",
       "      <td>2.50</td>\n",
       "      <td>1460</td>\n",
       "      <td>7573</td>\n",
       "      <td>2.0</td>\n",
       "      <td>0</td>\n",
       "      <td>0</td>\n",
       "      <td>3</td>\n",
       "      <td>1460</td>\n",
       "      <td>0</td>\n",
       "      <td>1983</td>\n",
       "      <td>2009</td>\n",
       "      <td>14855 SE 10th Pl</td>\n",
       "      <td>Bellevue</td>\n",
       "      <td>WA 98007</td>\n",
       "      <td>USA</td>\n",
       "    </tr>\n",
       "    <tr>\n",
       "      <th>4597</th>\n",
       "      <td>7/9/2014 0:00</td>\n",
       "      <td>416904.1667</td>\n",
       "      <td>3</td>\n",
       "      <td>2.50</td>\n",
       "      <td>3010</td>\n",
       "      <td>7014</td>\n",
       "      <td>2.0</td>\n",
       "      <td>0</td>\n",
       "      <td>0</td>\n",
       "      <td>3</td>\n",
       "      <td>3010</td>\n",
       "      <td>0</td>\n",
       "      <td>2009</td>\n",
       "      <td>0</td>\n",
       "      <td>759 Ilwaco Pl NE</td>\n",
       "      <td>Renton</td>\n",
       "      <td>WA 98059</td>\n",
       "      <td>USA</td>\n",
       "    </tr>\n",
       "    <tr>\n",
       "      <th>4598</th>\n",
       "      <td>7/10/2014 0:00</td>\n",
       "      <td>203400.0000</td>\n",
       "      <td>4</td>\n",
       "      <td>2.00</td>\n",
       "      <td>2090</td>\n",
       "      <td>6630</td>\n",
       "      <td>1.0</td>\n",
       "      <td>0</td>\n",
       "      <td>0</td>\n",
       "      <td>3</td>\n",
       "      <td>1070</td>\n",
       "      <td>1020</td>\n",
       "      <td>1974</td>\n",
       "      <td>0</td>\n",
       "      <td>5148 S Creston St</td>\n",
       "      <td>Seattle</td>\n",
       "      <td>WA 98178</td>\n",
       "      <td>USA</td>\n",
       "    </tr>\n",
       "    <tr>\n",
       "      <th>4599</th>\n",
       "      <td>7/10/2014 0:00</td>\n",
       "      <td>220600.0000</td>\n",
       "      <td>3</td>\n",
       "      <td>2.50</td>\n",
       "      <td>1490</td>\n",
       "      <td>8102</td>\n",
       "      <td>2.0</td>\n",
       "      <td>0</td>\n",
       "      <td>0</td>\n",
       "      <td>4</td>\n",
       "      <td>1490</td>\n",
       "      <td>0</td>\n",
       "      <td>1990</td>\n",
       "      <td>0</td>\n",
       "      <td>18717 SE 258th St</td>\n",
       "      <td>Covington</td>\n",
       "      <td>WA 98042</td>\n",
       "      <td>USA</td>\n",
       "    </tr>\n",
       "  </tbody>\n",
       "</table>\n",
       "<p>4600 rows × 18 columns</p>\n",
       "</div>"
      ],
      "text/plain": [
       "                date        price  bedrooms  bathrooms  sqft_living  sqft_lot  \\\n",
       "0      5/2/2014 0:00          NaN         3        NaN         1340      7912   \n",
       "1      5/2/2014 0:00          NaN         5        NaN         3650      9050   \n",
       "2      5/2/2014 0:00  342000.0000         3        NaN         1930     11947   \n",
       "3      5/2/2014 0:00          NaN         3        NaN         2000      8030   \n",
       "4      5/2/2014 0:00  550000.0000         4        NaN         1940     10500   \n",
       "...              ...          ...       ...        ...          ...       ...   \n",
       "4595   7/9/2014 0:00  308166.6667         3       1.75         1510      6360   \n",
       "4596   7/9/2014 0:00  534333.3333         3       2.50         1460      7573   \n",
       "4597   7/9/2014 0:00  416904.1667         3       2.50         3010      7014   \n",
       "4598  7/10/2014 0:00  203400.0000         4       2.00         2090      6630   \n",
       "4599  7/10/2014 0:00  220600.0000         3       2.50         1490      8102   \n",
       "\n",
       "      floors  waterfront  view  condition  sqft_above  sqft_basement  \\\n",
       "0        1.5          12     0          3        1340              0   \n",
       "1        2.0          12     4          5        3370            280   \n",
       "2        1.0          12     0          4        1930              0   \n",
       "3        1.0          12     0          4        1000           1000   \n",
       "4        1.0          12     0          4        1140            800   \n",
       "...      ...         ...   ...        ...         ...            ...   \n",
       "4595     1.0           0     0          4        1510              0   \n",
       "4596     2.0           0     0          3        1460              0   \n",
       "4597     2.0           0     0          3        3010              0   \n",
       "4598     1.0           0     0          3        1070           1020   \n",
       "4599     2.0           0     0          4        1490              0   \n",
       "\n",
       "      yr_built  yr_renovated                    street       city  statezip  \\\n",
       "0         1955          2005      18810 Densmore Ave N  Shoreline  WA 98133   \n",
       "1         1921             0           709 W Blaine St    Seattle  WA 98119   \n",
       "2         1966             0  26206-26214 143rd Ave SE       Kent  WA 98042   \n",
       "3         1963             0           857 170th Pl NE   Bellevue  WA 98008   \n",
       "4         1976          1992         9105 170th Ave NE    Redmond  WA 98052   \n",
       "...        ...           ...                       ...        ...       ...   \n",
       "4595      1954          1979            501 N 143rd St    Seattle  WA 98133   \n",
       "4596      1983          2009          14855 SE 10th Pl   Bellevue  WA 98007   \n",
       "4597      2009             0          759 Ilwaco Pl NE     Renton  WA 98059   \n",
       "4598      1974             0         5148 S Creston St    Seattle  WA 98178   \n",
       "4599      1990             0         18717 SE 258th St  Covington  WA 98042   \n",
       "\n",
       "     country  \n",
       "0        USA  \n",
       "1        USA  \n",
       "2        USA  \n",
       "3        USA  \n",
       "4        USA  \n",
       "...      ...  \n",
       "4595     USA  \n",
       "4596     USA  \n",
       "4597     USA  \n",
       "4598     USA  \n",
       "4599     USA  \n",
       "\n",
       "[4600 rows x 18 columns]"
      ]
     },
     "execution_count": 2,
     "metadata": {},
     "output_type": "execute_result"
    }
   ],
   "source": [
    "\n",
    "df = pd.read_csv(\"data.csv\")\n",
    "df"
   ]
  },
  {
   "cell_type": "code",
   "execution_count": 3,
   "id": "43a2e9d8",
   "metadata": {},
   "outputs": [],
   "source": [
    "# print(df)"
   ]
  },
  {
   "cell_type": "code",
   "execution_count": 4,
   "id": "60166b37",
   "metadata": {},
   "outputs": [],
   "source": [
    "# pd.set_option(\"display.max_rows\", None, \"display.max_columns\", None)\n",
    "# df"
   ]
  },
  {
   "cell_type": "markdown",
   "id": "b8ca0472",
   "metadata": {},
   "source": [
    "<!DOCTYPE html>\n",
    "<html lang=\"en\">\n",
    "<head>\n",
    "    <meta charset=\"UTF-8\">\n",
    "    <meta name=\"viewport\" content=\"width=device-width, initial-scale=1.0\">\n",
    "    <title>Data Exploration</title>\n",
    "</head>\n",
    "<body style=\"background-color: #fffbcc;\"> <!-- Bright background -->\n",
    "    <h1 style=\"color: #ff5733;\">Data Exploration</h1> <!-- Bright orange text -->\n",
    "\n",
    "</body>\n",
    "</html>\n",
    "\n",
    "</html>\n"
   ]
  },
  {
   "cell_type": "code",
   "execution_count": 3,
   "id": "995709a2",
   "metadata": {},
   "outputs": [
    {
     "data": {
      "text/html": [
       "<div>\n",
       "<style scoped>\n",
       "    .dataframe tbody tr th:only-of-type {\n",
       "        vertical-align: middle;\n",
       "    }\n",
       "\n",
       "    .dataframe tbody tr th {\n",
       "        vertical-align: top;\n",
       "    }\n",
       "\n",
       "    .dataframe thead th {\n",
       "        text-align: right;\n",
       "    }\n",
       "</style>\n",
       "<table border=\"1\" class=\"dataframe\">\n",
       "  <thead>\n",
       "    <tr style=\"text-align: right;\">\n",
       "      <th></th>\n",
       "      <th>date</th>\n",
       "      <th>price</th>\n",
       "      <th>bedrooms</th>\n",
       "      <th>bathrooms</th>\n",
       "      <th>sqft_living</th>\n",
       "      <th>sqft_lot</th>\n",
       "      <th>floors</th>\n",
       "      <th>waterfront</th>\n",
       "      <th>view</th>\n",
       "      <th>condition</th>\n",
       "      <th>sqft_above</th>\n",
       "      <th>sqft_basement</th>\n",
       "      <th>yr_built</th>\n",
       "      <th>yr_renovated</th>\n",
       "      <th>street</th>\n",
       "      <th>city</th>\n",
       "      <th>statezip</th>\n",
       "      <th>country</th>\n",
       "    </tr>\n",
       "  </thead>\n",
       "  <tbody>\n",
       "    <tr>\n",
       "      <th>0</th>\n",
       "      <td>5/2/2014 0:00</td>\n",
       "      <td>NaN</td>\n",
       "      <td>3</td>\n",
       "      <td>NaN</td>\n",
       "      <td>1340</td>\n",
       "      <td>7912</td>\n",
       "      <td>1.5</td>\n",
       "      <td>12</td>\n",
       "      <td>0</td>\n",
       "      <td>3</td>\n",
       "      <td>1340</td>\n",
       "      <td>0</td>\n",
       "      <td>1955</td>\n",
       "      <td>2005</td>\n",
       "      <td>18810 Densmore Ave N</td>\n",
       "      <td>Shoreline</td>\n",
       "      <td>WA 98133</td>\n",
       "      <td>USA</td>\n",
       "    </tr>\n",
       "    <tr>\n",
       "      <th>1</th>\n",
       "      <td>5/2/2014 0:00</td>\n",
       "      <td>NaN</td>\n",
       "      <td>5</td>\n",
       "      <td>NaN</td>\n",
       "      <td>3650</td>\n",
       "      <td>9050</td>\n",
       "      <td>2.0</td>\n",
       "      <td>12</td>\n",
       "      <td>4</td>\n",
       "      <td>5</td>\n",
       "      <td>3370</td>\n",
       "      <td>280</td>\n",
       "      <td>1921</td>\n",
       "      <td>0</td>\n",
       "      <td>709 W Blaine St</td>\n",
       "      <td>Seattle</td>\n",
       "      <td>WA 98119</td>\n",
       "      <td>USA</td>\n",
       "    </tr>\n",
       "  </tbody>\n",
       "</table>\n",
       "</div>"
      ],
      "text/plain": [
       "            date  price  bedrooms  bathrooms  sqft_living  sqft_lot  floors  \\\n",
       "0  5/2/2014 0:00    NaN         3        NaN         1340      7912     1.5   \n",
       "1  5/2/2014 0:00    NaN         5        NaN         3650      9050     2.0   \n",
       "\n",
       "   waterfront  view  condition  sqft_above  sqft_basement  yr_built  \\\n",
       "0          12     0          3        1340              0      1955   \n",
       "1          12     4          5        3370            280      1921   \n",
       "\n",
       "   yr_renovated                street       city  statezip country  \n",
       "0          2005  18810 Densmore Ave N  Shoreline  WA 98133     USA  \n",
       "1             0       709 W Blaine St    Seattle  WA 98119     USA  "
      ]
     },
     "execution_count": 3,
     "metadata": {},
     "output_type": "execute_result"
    }
   ],
   "source": [
    "# Data View\n",
    "# df.head()\n",
    "df.head(2)"
   ]
  },
  {
   "cell_type": "code",
   "execution_count": 4,
   "id": "88d090c9",
   "metadata": {},
   "outputs": [
    {
     "data": {
      "text/html": [
       "<div>\n",
       "<style scoped>\n",
       "    .dataframe tbody tr th:only-of-type {\n",
       "        vertical-align: middle;\n",
       "    }\n",
       "\n",
       "    .dataframe tbody tr th {\n",
       "        vertical-align: top;\n",
       "    }\n",
       "\n",
       "    .dataframe thead th {\n",
       "        text-align: right;\n",
       "    }\n",
       "</style>\n",
       "<table border=\"1\" class=\"dataframe\">\n",
       "  <thead>\n",
       "    <tr style=\"text-align: right;\">\n",
       "      <th></th>\n",
       "      <th>date</th>\n",
       "      <th>price</th>\n",
       "      <th>bedrooms</th>\n",
       "      <th>bathrooms</th>\n",
       "      <th>sqft_living</th>\n",
       "      <th>sqft_lot</th>\n",
       "      <th>floors</th>\n",
       "      <th>waterfront</th>\n",
       "      <th>view</th>\n",
       "      <th>condition</th>\n",
       "      <th>sqft_above</th>\n",
       "      <th>sqft_basement</th>\n",
       "      <th>yr_built</th>\n",
       "      <th>yr_renovated</th>\n",
       "      <th>street</th>\n",
       "      <th>city</th>\n",
       "      <th>statezip</th>\n",
       "      <th>country</th>\n",
       "    </tr>\n",
       "  </thead>\n",
       "  <tbody>\n",
       "    <tr>\n",
       "      <th>4598</th>\n",
       "      <td>7/10/2014 0:00</td>\n",
       "      <td>203400.0</td>\n",
       "      <td>4</td>\n",
       "      <td>2.0</td>\n",
       "      <td>2090</td>\n",
       "      <td>6630</td>\n",
       "      <td>1.0</td>\n",
       "      <td>0</td>\n",
       "      <td>0</td>\n",
       "      <td>3</td>\n",
       "      <td>1070</td>\n",
       "      <td>1020</td>\n",
       "      <td>1974</td>\n",
       "      <td>0</td>\n",
       "      <td>5148 S Creston St</td>\n",
       "      <td>Seattle</td>\n",
       "      <td>WA 98178</td>\n",
       "      <td>USA</td>\n",
       "    </tr>\n",
       "    <tr>\n",
       "      <th>4599</th>\n",
       "      <td>7/10/2014 0:00</td>\n",
       "      <td>220600.0</td>\n",
       "      <td>3</td>\n",
       "      <td>2.5</td>\n",
       "      <td>1490</td>\n",
       "      <td>8102</td>\n",
       "      <td>2.0</td>\n",
       "      <td>0</td>\n",
       "      <td>0</td>\n",
       "      <td>4</td>\n",
       "      <td>1490</td>\n",
       "      <td>0</td>\n",
       "      <td>1990</td>\n",
       "      <td>0</td>\n",
       "      <td>18717 SE 258th St</td>\n",
       "      <td>Covington</td>\n",
       "      <td>WA 98042</td>\n",
       "      <td>USA</td>\n",
       "    </tr>\n",
       "  </tbody>\n",
       "</table>\n",
       "</div>"
      ],
      "text/plain": [
       "                date     price  bedrooms  bathrooms  sqft_living  sqft_lot  \\\n",
       "4598  7/10/2014 0:00  203400.0         4        2.0         2090      6630   \n",
       "4599  7/10/2014 0:00  220600.0         3        2.5         1490      8102   \n",
       "\n",
       "      floors  waterfront  view  condition  sqft_above  sqft_basement  \\\n",
       "4598     1.0           0     0          3        1070           1020   \n",
       "4599     2.0           0     0          4        1490              0   \n",
       "\n",
       "      yr_built  yr_renovated             street       city  statezip country  \n",
       "4598      1974             0  5148 S Creston St    Seattle  WA 98178     USA  \n",
       "4599      1990             0  18717 SE 258th St  Covington  WA 98042     USA  "
      ]
     },
     "execution_count": 4,
     "metadata": {},
     "output_type": "execute_result"
    }
   ],
   "source": [
    "# df.tail()\n",
    "df.tail(2)"
   ]
  },
  {
   "cell_type": "code",
   "execution_count": 5,
   "id": "fc0ffa5a",
   "metadata": {},
   "outputs": [
    {
     "name": "stdout",
     "output_type": "stream",
     "text": [
      "Number of rows 4600, Number of columns 18\n",
      "(4600, 18)\n"
     ]
    }
   ],
   "source": [
    "print(f\"Number of rows {df.shape[0]}, Number of columns {df.shape[1]}\")\n",
    "print(df.shape)"
   ]
  },
  {
   "cell_type": "code",
   "execution_count": 11,
   "id": "1bd37a79",
   "metadata": {},
   "outputs": [
    {
     "name": "stdout",
     "output_type": "stream",
     "text": [
      "----------------Attributes in Data----------------\n",
      "date\n",
      "price\n",
      "bedrooms\n",
      "bathrooms\n",
      "sqft_living\n",
      "sqft_lot\n",
      "floors\n",
      "waterfront\n",
      "view\n",
      "condition\n",
      "sqft_above\n",
      "sqft_basement\n",
      "yr_built\n",
      "yr_renovated\n",
      "street\n",
      "city\n",
      "statezip\n",
      "country\n"
     ]
    }
   ],
   "source": [
    "print(\"Attributes in Data\".center(50, \"-\"))\n",
    "for cols in df.columns:\n",
    "    print(cols)"
   ]
  },
  {
   "cell_type": "code",
   "execution_count": 12,
   "id": "2753e349",
   "metadata": {},
   "outputs": [
    {
     "name": "stdout",
     "output_type": "stream",
     "text": [
      "-----------Number of instances in Data------------\n",
      "date             4600\n",
      "price            4596\n",
      "bedrooms         4600\n",
      "bathrooms        4590\n",
      "sqft_living      4600\n",
      "sqft_lot         4600\n",
      "floors           4600\n",
      "waterfront       4600\n",
      "view             4600\n",
      "condition        4600\n",
      "sqft_above       4600\n",
      "sqft_basement    4600\n",
      "yr_built         4600\n",
      "yr_renovated     4600\n",
      "street           4600\n",
      "city             4600\n",
      "statezip         4600\n",
      "country          4600\n",
      "dtype: int64\n"
     ]
    }
   ],
   "source": [
    "print(\"Number of instances in Data\".center(50, \"-\"))\n",
    "print(df.count())"
   ]
  },
  {
   "cell_type": "code",
   "execution_count": 8,
   "id": "ef49a516",
   "metadata": {},
   "outputs": [
    {
     "data": {
      "text/plain": [
       "array(['Shoreline', 'Seattle', 'Kent', 'Bellevue', 'Redmond',\n",
       "       'Maple Valley', 'North Bend', 'Lake Forest Park', 'Sammamish',\n",
       "       'Auburn', 'Des Moines', 'Bothell', 'Federal Way', 'Kirkland',\n",
       "       'Issaquah', 'Woodinville', 'Normandy Park', 'Fall City', 'Renton',\n",
       "       'Carnation', 'Snoqualmie', 'Duvall', 'Burien', 'Covington',\n",
       "       'Inglewood-Finn Hill', 'Kenmore', 'Newcastle', 'Mercer Island',\n",
       "       'Black Diamond', 'Ravensdale', 'Clyde Hill', 'Algona', 'Skykomish',\n",
       "       'Tukwila', 'Vashon', 'Yarrow Point', 'SeaTac', 'Medina',\n",
       "       'Enumclaw', 'Snoqualmie Pass', 'Pacific', 'Beaux Arts Village',\n",
       "       'Preston', 'Milton'], dtype=object)"
      ]
     },
     "execution_count": 8,
     "metadata": {},
     "output_type": "execute_result"
    }
   ],
   "source": [
    "df['city'].unique()"
   ]
  },
  {
   "cell_type": "code",
   "execution_count": 13,
   "id": "4d053079",
   "metadata": {},
   "outputs": [
    {
     "name": "stdout",
     "output_type": "stream",
     "text": [
      "---------Number of Unique Values in Data----------\n",
      "date               70\n",
      "price            1740\n",
      "bedrooms           10\n",
      "bathrooms          26\n",
      "sqft_living       566\n",
      "sqft_lot         3113\n",
      "floors              6\n",
      "waterfront          3\n",
      "view                7\n",
      "condition           5\n",
      "sqft_above        511\n",
      "sqft_basement     207\n",
      "yr_built          115\n",
      "yr_renovated       60\n",
      "street           4525\n",
      "city               44\n",
      "statezip           77\n",
      "country             1\n",
      "dtype: int64\n"
     ]
    }
   ],
   "source": [
    "print(\"Number of Unique Values in Data\".center(50, \"-\"))\n",
    "print(df.nunique())"
   ]
  },
  {
   "cell_type": "code",
   "execution_count": 14,
   "id": "ffa7ac91",
   "metadata": {},
   "outputs": [
    {
     "name": "stdout",
     "output_type": "stream",
     "text": [
      "----------Number of Null Values in Data-----------\n",
      "date              0\n",
      "price             4\n",
      "bedrooms          0\n",
      "bathrooms        10\n",
      "sqft_living       0\n",
      "sqft_lot          0\n",
      "floors            0\n",
      "waterfront        0\n",
      "view              0\n",
      "condition         0\n",
      "sqft_above        0\n",
      "sqft_basement     0\n",
      "yr_built          0\n",
      "yr_renovated      0\n",
      "street            0\n",
      "city              0\n",
      "statezip          0\n",
      "country           0\n",
      "dtype: int64\n"
     ]
    }
   ],
   "source": [
    "print(\"Number of Null Values in Data\".center(50, \"-\"))\n",
    "print(df.isnull().sum())"
   ]
  },
  {
   "cell_type": "code",
   "execution_count": 15,
   "id": "6079fa2d",
   "metadata": {},
   "outputs": [
    {
     "name": "stdout",
     "output_type": "stream",
     "text": [
      "-----------------Details of Data------------------\n"
     ]
    },
    {
     "data": {
      "text/html": [
       "<div>\n",
       "<style scoped>\n",
       "    .dataframe tbody tr th:only-of-type {\n",
       "        vertical-align: middle;\n",
       "    }\n",
       "\n",
       "    .dataframe tbody tr th {\n",
       "        vertical-align: top;\n",
       "    }\n",
       "\n",
       "    .dataframe thead th {\n",
       "        text-align: right;\n",
       "    }\n",
       "</style>\n",
       "<table border=\"1\" class=\"dataframe\">\n",
       "  <thead>\n",
       "    <tr style=\"text-align: right;\">\n",
       "      <th></th>\n",
       "      <th>price</th>\n",
       "      <th>bedrooms</th>\n",
       "      <th>bathrooms</th>\n",
       "      <th>sqft_living</th>\n",
       "      <th>sqft_lot</th>\n",
       "      <th>floors</th>\n",
       "      <th>waterfront</th>\n",
       "      <th>view</th>\n",
       "      <th>condition</th>\n",
       "      <th>sqft_above</th>\n",
       "      <th>sqft_basement</th>\n",
       "      <th>yr_built</th>\n",
       "      <th>yr_renovated</th>\n",
       "    </tr>\n",
       "  </thead>\n",
       "  <tbody>\n",
       "    <tr>\n",
       "      <th>count</th>\n",
       "      <td>4.596000e+03</td>\n",
       "      <td>4600.000000</td>\n",
       "      <td>4590.000000</td>\n",
       "      <td>4600.000000</td>\n",
       "      <td>4.600000e+03</td>\n",
       "      <td>4600.000000</td>\n",
       "      <td>4600.000000</td>\n",
       "      <td>4600.000000</td>\n",
       "      <td>4600.000000</td>\n",
       "      <td>4600.000000</td>\n",
       "      <td>4600.000000</td>\n",
       "      <td>4600.000000</td>\n",
       "      <td>4600.000000</td>\n",
       "    </tr>\n",
       "    <tr>\n",
       "      <th>mean</th>\n",
       "      <td>5.516586e+05</td>\n",
       "      <td>3.400870</td>\n",
       "      <td>2.153431</td>\n",
       "      <td>2139.346957</td>\n",
       "      <td>1.485252e+04</td>\n",
       "      <td>1.512065</td>\n",
       "      <td>0.033261</td>\n",
       "      <td>0.348261</td>\n",
       "      <td>3.451739</td>\n",
       "      <td>1827.265435</td>\n",
       "      <td>312.081522</td>\n",
       "      <td>1970.786304</td>\n",
       "      <td>808.608261</td>\n",
       "    </tr>\n",
       "    <tr>\n",
       "      <th>std</th>\n",
       "      <td>5.634170e+05</td>\n",
       "      <td>0.908848</td>\n",
       "      <td>0.794986</td>\n",
       "      <td>963.206916</td>\n",
       "      <td>3.588444e+04</td>\n",
       "      <td>0.538288</td>\n",
       "      <td>0.564961</td>\n",
       "      <td>1.943879</td>\n",
       "      <td>0.677230</td>\n",
       "      <td>862.168977</td>\n",
       "      <td>464.137228</td>\n",
       "      <td>29.731848</td>\n",
       "      <td>979.414536</td>\n",
       "    </tr>\n",
       "    <tr>\n",
       "      <th>min</th>\n",
       "      <td>0.000000e+00</td>\n",
       "      <td>0.000000</td>\n",
       "      <td>0.000000</td>\n",
       "      <td>370.000000</td>\n",
       "      <td>6.380000e+02</td>\n",
       "      <td>1.000000</td>\n",
       "      <td>0.000000</td>\n",
       "      <td>0.000000</td>\n",
       "      <td>1.000000</td>\n",
       "      <td>370.000000</td>\n",
       "      <td>0.000000</td>\n",
       "      <td>1900.000000</td>\n",
       "      <td>0.000000</td>\n",
       "    </tr>\n",
       "    <tr>\n",
       "      <th>25%</th>\n",
       "      <td>3.228750e+05</td>\n",
       "      <td>3.000000</td>\n",
       "      <td>1.750000</td>\n",
       "      <td>1460.000000</td>\n",
       "      <td>5.000750e+03</td>\n",
       "      <td>1.000000</td>\n",
       "      <td>0.000000</td>\n",
       "      <td>0.000000</td>\n",
       "      <td>3.000000</td>\n",
       "      <td>1190.000000</td>\n",
       "      <td>0.000000</td>\n",
       "      <td>1951.000000</td>\n",
       "      <td>0.000000</td>\n",
       "    </tr>\n",
       "    <tr>\n",
       "      <th>50%</th>\n",
       "      <td>4.609435e+05</td>\n",
       "      <td>3.000000</td>\n",
       "      <td>2.250000</td>\n",
       "      <td>1980.000000</td>\n",
       "      <td>7.683000e+03</td>\n",
       "      <td>1.500000</td>\n",
       "      <td>0.000000</td>\n",
       "      <td>0.000000</td>\n",
       "      <td>3.000000</td>\n",
       "      <td>1590.000000</td>\n",
       "      <td>0.000000</td>\n",
       "      <td>1976.000000</td>\n",
       "      <td>0.000000</td>\n",
       "    </tr>\n",
       "    <tr>\n",
       "      <th>75%</th>\n",
       "      <td>6.549625e+05</td>\n",
       "      <td>4.000000</td>\n",
       "      <td>2.500000</td>\n",
       "      <td>2620.000000</td>\n",
       "      <td>1.100125e+04</td>\n",
       "      <td>2.000000</td>\n",
       "      <td>0.000000</td>\n",
       "      <td>0.000000</td>\n",
       "      <td>4.000000</td>\n",
       "      <td>2300.000000</td>\n",
       "      <td>610.000000</td>\n",
       "      <td>1997.000000</td>\n",
       "      <td>1999.000000</td>\n",
       "    </tr>\n",
       "    <tr>\n",
       "      <th>max</th>\n",
       "      <td>2.659000e+07</td>\n",
       "      <td>9.000000</td>\n",
       "      <td>8.000000</td>\n",
       "      <td>13540.000000</td>\n",
       "      <td>1.074218e+06</td>\n",
       "      <td>3.500000</td>\n",
       "      <td>12.000000</td>\n",
       "      <td>33.000000</td>\n",
       "      <td>5.000000</td>\n",
       "      <td>9410.000000</td>\n",
       "      <td>4820.000000</td>\n",
       "      <td>2014.000000</td>\n",
       "      <td>2014.000000</td>\n",
       "    </tr>\n",
       "  </tbody>\n",
       "</table>\n",
       "</div>"
      ],
      "text/plain": [
       "              price     bedrooms    bathrooms   sqft_living      sqft_lot  \\\n",
       "count  4.596000e+03  4600.000000  4590.000000   4600.000000  4.600000e+03   \n",
       "mean   5.516586e+05     3.400870     2.153431   2139.346957  1.485252e+04   \n",
       "std    5.634170e+05     0.908848     0.794986    963.206916  3.588444e+04   \n",
       "min    0.000000e+00     0.000000     0.000000    370.000000  6.380000e+02   \n",
       "25%    3.228750e+05     3.000000     1.750000   1460.000000  5.000750e+03   \n",
       "50%    4.609435e+05     3.000000     2.250000   1980.000000  7.683000e+03   \n",
       "75%    6.549625e+05     4.000000     2.500000   2620.000000  1.100125e+04   \n",
       "max    2.659000e+07     9.000000     8.000000  13540.000000  1.074218e+06   \n",
       "\n",
       "            floors   waterfront         view    condition   sqft_above  \\\n",
       "count  4600.000000  4600.000000  4600.000000  4600.000000  4600.000000   \n",
       "mean      1.512065     0.033261     0.348261     3.451739  1827.265435   \n",
       "std       0.538288     0.564961     1.943879     0.677230   862.168977   \n",
       "min       1.000000     0.000000     0.000000     1.000000   370.000000   \n",
       "25%       1.000000     0.000000     0.000000     3.000000  1190.000000   \n",
       "50%       1.500000     0.000000     0.000000     3.000000  1590.000000   \n",
       "75%       2.000000     0.000000     0.000000     4.000000  2300.000000   \n",
       "max       3.500000    12.000000    33.000000     5.000000  9410.000000   \n",
       "\n",
       "       sqft_basement     yr_built  yr_renovated  \n",
       "count    4600.000000  4600.000000   4600.000000  \n",
       "mean      312.081522  1970.786304    808.608261  \n",
       "std       464.137228    29.731848    979.414536  \n",
       "min         0.000000  1900.000000      0.000000  \n",
       "25%         0.000000  1951.000000      0.000000  \n",
       "50%         0.000000  1976.000000      0.000000  \n",
       "75%       610.000000  1997.000000   1999.000000  \n",
       "max      4820.000000  2014.000000   2014.000000  "
      ]
     },
     "execution_count": 15,
     "metadata": {},
     "output_type": "execute_result"
    }
   ],
   "source": [
    "print(\"Details of Data\".center(50, \"-\"))\n",
    "df.describe()"
   ]
  },
  {
   "cell_type": "code",
   "execution_count": 16,
   "id": "04e9a98b",
   "metadata": {},
   "outputs": [
    {
     "name": "stdout",
     "output_type": "stream",
     "text": [
      "-----------------Insights of Data-----------------\n",
      "<class 'pandas.core.frame.DataFrame'>\n",
      "RangeIndex: 4600 entries, 0 to 4599\n",
      "Data columns (total 18 columns):\n",
      " #   Column         Non-Null Count  Dtype  \n",
      "---  ------         --------------  -----  \n",
      " 0   date           4600 non-null   object \n",
      " 1   price          4596 non-null   float64\n",
      " 2   bedrooms       4600 non-null   int64  \n",
      " 3   bathrooms      4590 non-null   float64\n",
      " 4   sqft_living    4600 non-null   int64  \n",
      " 5   sqft_lot       4600 non-null   int64  \n",
      " 6   floors         4600 non-null   float64\n",
      " 7   waterfront     4600 non-null   int64  \n",
      " 8   view           4600 non-null   int64  \n",
      " 9   condition      4600 non-null   int64  \n",
      " 10  sqft_above     4600 non-null   int64  \n",
      " 11  sqft_basement  4600 non-null   int64  \n",
      " 12  yr_built       4600 non-null   int64  \n",
      " 13  yr_renovated   4600 non-null   int64  \n",
      " 14  street         4600 non-null   object \n",
      " 15  city           4600 non-null   object \n",
      " 16  statezip       4600 non-null   object \n",
      " 17  country        4600 non-null   object \n",
      "dtypes: float64(3), int64(10), object(5)\n",
      "memory usage: 647.0+ KB\n"
     ]
    }
   ],
   "source": [
    "print(\"Insights of Data\".center(50,\"-\"))\n",
    "df.info()"
   ]
  },
  {
   "cell_type": "markdown",
   "id": "2cb18a35",
   "metadata": {},
   "source": [
    "# Data Pre-Processing"
   ]
  },
  {
   "cell_type": "markdown",
   "id": "9a2dfdeb",
   "metadata": {},
   "source": [
    "### Manage Null-Values"
   ]
  },
  {
   "cell_type": "code",
   "execution_count": 17,
   "id": "07c6bbcd",
   "metadata": {},
   "outputs": [
    {
     "name": "stdout",
     "output_type": "stream",
     "text": [
      "----------Number of Null Values in Data-----------\n",
      "date              0\n",
      "price             4\n",
      "bedrooms          0\n",
      "bathrooms        10\n",
      "sqft_living       0\n",
      "sqft_lot          0\n",
      "floors            0\n",
      "waterfront        0\n",
      "view              0\n",
      "condition         0\n",
      "sqft_above        0\n",
      "sqft_basement     0\n",
      "yr_built          0\n",
      "yr_renovated      0\n",
      "street            0\n",
      "city              0\n",
      "statezip          0\n",
      "country           0\n",
      "dtype: int64\n"
     ]
    }
   ],
   "source": [
    "print(\"Number of Null Values in Data\".center(50, \"-\"))\n",
    "print(df.isnull().sum())"
   ]
  },
  {
   "cell_type": "code",
   "execution_count": 18,
   "id": "4a34316a",
   "metadata": {},
   "outputs": [
    {
     "name": "stdout",
     "output_type": "stream",
     "text": [
      "0\n"
     ]
    }
   ],
   "source": [
    "# print(\"-- Number of Null Values in Data --\")\n",
    "print(df['street'].isnull().sum())"
   ]
  },
  {
   "cell_type": "code",
   "execution_count": 17,
   "id": "aaa01e84",
   "metadata": {},
   "outputs": [],
   "source": [
    "# # For Object/String Types\n",
    "# df['street']   = df['street'].fillna(df['street'].mode()[0])\n",
    "# df['city']     = df['city'].fillna(df['city'].mode()[0])\n",
    "# df['statezip'] = df['statezip'].fillna(df['statezip'].mode()[0])\n",
    "# df['country']  = df['country'].fillna(df['country'].mode()[0])"
   ]
  },
  {
   "cell_type": "code",
   "execution_count": 19,
   "id": "6dbcf70a",
   "metadata": {},
   "outputs": [],
   "source": [
    "def fillNaObjMode(col):\n",
    "    for i in col:\n",
    "        df[i] = df[i].fillna(df[i].mode()[0])\n",
    "\n",
    "columns = ['street', 'city', 'statezip', 'country']\n",
    "fillNaObjMode(columns)"
   ]
  },
  {
   "cell_type": "code",
   "execution_count": 20,
   "id": "457219d9",
   "metadata": {},
   "outputs": [],
   "source": [
    "def fillNaMean(col):\n",
    "    for i in col:\n",
    "        df[i] = df[i].fillna(df[i].mean())\n",
    "\n",
    "columns = ['price','sqft_living','sqft_lot','sqft_above','sqft_basement']\n",
    "fillNaMean(columns)"
   ]
  },
  {
   "cell_type": "code",
   "execution_count": 21,
   "id": "dc2eb3b3",
   "metadata": {},
   "outputs": [],
   "source": [
    "def fillNaMode(col):\n",
    "    for i in col:\n",
    "        df[i] = df[i].fillna(df[i].mode()[0])\n",
    "\n",
    "columns = ['bedrooms','bathrooms','floors','waterfront','view','yr_built']\n",
    "fillNaMode(columns)"
   ]
  },
  {
   "cell_type": "code",
   "execution_count": 22,
   "id": "2682ef64",
   "metadata": {},
   "outputs": [],
   "source": [
    "df.drop('date', axis=1, inplace=True)\n",
    "df.drop('street', axis=1, inplace=True)"
   ]
  },
  {
   "cell_type": "code",
   "execution_count": 23,
   "id": "a3981a77",
   "metadata": {},
   "outputs": [
    {
     "data": {
      "text/html": [
       "<div>\n",
       "<style scoped>\n",
       "    .dataframe tbody tr th:only-of-type {\n",
       "        vertical-align: middle;\n",
       "    }\n",
       "\n",
       "    .dataframe tbody tr th {\n",
       "        vertical-align: top;\n",
       "    }\n",
       "\n",
       "    .dataframe thead th {\n",
       "        text-align: right;\n",
       "    }\n",
       "</style>\n",
       "<table border=\"1\" class=\"dataframe\">\n",
       "  <thead>\n",
       "    <tr style=\"text-align: right;\">\n",
       "      <th></th>\n",
       "      <th>price</th>\n",
       "      <th>bedrooms</th>\n",
       "      <th>bathrooms</th>\n",
       "      <th>sqft_living</th>\n",
       "      <th>sqft_lot</th>\n",
       "      <th>floors</th>\n",
       "      <th>waterfront</th>\n",
       "      <th>view</th>\n",
       "      <th>condition</th>\n",
       "      <th>sqft_above</th>\n",
       "      <th>sqft_basement</th>\n",
       "      <th>yr_built</th>\n",
       "      <th>yr_renovated</th>\n",
       "      <th>city</th>\n",
       "      <th>statezip</th>\n",
       "      <th>country</th>\n",
       "    </tr>\n",
       "  </thead>\n",
       "  <tbody>\n",
       "    <tr>\n",
       "      <th>0</th>\n",
       "      <td>551658.561135</td>\n",
       "      <td>3</td>\n",
       "      <td>2.5</td>\n",
       "      <td>1340</td>\n",
       "      <td>7912</td>\n",
       "      <td>1.5</td>\n",
       "      <td>12</td>\n",
       "      <td>0</td>\n",
       "      <td>3</td>\n",
       "      <td>1340</td>\n",
       "      <td>0</td>\n",
       "      <td>1955</td>\n",
       "      <td>2005</td>\n",
       "      <td>Shoreline</td>\n",
       "      <td>WA 98133</td>\n",
       "      <td>USA</td>\n",
       "    </tr>\n",
       "    <tr>\n",
       "      <th>1</th>\n",
       "      <td>551658.561135</td>\n",
       "      <td>5</td>\n",
       "      <td>2.5</td>\n",
       "      <td>3650</td>\n",
       "      <td>9050</td>\n",
       "      <td>2.0</td>\n",
       "      <td>12</td>\n",
       "      <td>4</td>\n",
       "      <td>5</td>\n",
       "      <td>3370</td>\n",
       "      <td>280</td>\n",
       "      <td>1921</td>\n",
       "      <td>0</td>\n",
       "      <td>Seattle</td>\n",
       "      <td>WA 98119</td>\n",
       "      <td>USA</td>\n",
       "    </tr>\n",
       "  </tbody>\n",
       "</table>\n",
       "</div>"
      ],
      "text/plain": [
       "           price  bedrooms  bathrooms  sqft_living  sqft_lot  floors  \\\n",
       "0  551658.561135         3        2.5         1340      7912     1.5   \n",
       "1  551658.561135         5        2.5         3650      9050     2.0   \n",
       "\n",
       "   waterfront  view  condition  sqft_above  sqft_basement  yr_built  \\\n",
       "0          12     0          3        1340              0      1955   \n",
       "1          12     4          5        3370            280      1921   \n",
       "\n",
       "   yr_renovated       city  statezip country  \n",
       "0          2005  Shoreline  WA 98133     USA  \n",
       "1             0    Seattle  WA 98119     USA  "
      ]
     },
     "execution_count": 23,
     "metadata": {},
     "output_type": "execute_result"
    }
   ],
   "source": [
    "df.head(2)"
   ]
  },
  {
   "cell_type": "code",
   "execution_count": 24,
   "id": "93a39c97",
   "metadata": {},
   "outputs": [
    {
     "name": "stdout",
     "output_type": "stream",
     "text": [
      "price            0\n",
      "bedrooms         0\n",
      "bathrooms        0\n",
      "sqft_living      0\n",
      "sqft_lot         0\n",
      "floors           0\n",
      "waterfront       0\n",
      "view             0\n",
      "condition        0\n",
      "sqft_above       0\n",
      "sqft_basement    0\n",
      "yr_built         0\n",
      "yr_renovated     0\n",
      "city             0\n",
      "statezip         0\n",
      "country          0\n",
      "dtype: int64\n"
     ]
    }
   ],
   "source": [
    "print(df.isnull().sum())"
   ]
  },
  {
   "cell_type": "code",
   "execution_count": 25,
   "id": "4dcc4038",
   "metadata": {},
   "outputs": [],
   "source": [
    "# df['price'] = df['price'].astype('int64')\n",
    "def changetoint64(col):\n",
    "    for i in col:\n",
    "        df[i] = df[i].astype('int64')\n",
    "        \n",
    "columns =[\n",
    "    'price','bedrooms','bathrooms','sqft_living','sqft_lot',\n",
    "    'floors','waterfront','view','sqft_above','sqft_basement',\n",
    "    'yr_built']\n",
    "changetoint64(columns)"
   ]
  },
  {
   "cell_type": "code",
   "execution_count": 26,
   "id": "2741ece4",
   "metadata": {},
   "outputs": [
    {
     "name": "stdout",
     "output_type": "stream",
     "text": [
      "-----------------Insights of Data-----------------\n",
      "<class 'pandas.core.frame.DataFrame'>\n",
      "RangeIndex: 4600 entries, 0 to 4599\n",
      "Data columns (total 16 columns):\n",
      " #   Column         Non-Null Count  Dtype \n",
      "---  ------         --------------  ----- \n",
      " 0   price          4600 non-null   int64 \n",
      " 1   bedrooms       4600 non-null   int64 \n",
      " 2   bathrooms      4600 non-null   int64 \n",
      " 3   sqft_living    4600 non-null   int64 \n",
      " 4   sqft_lot       4600 non-null   int64 \n",
      " 5   floors         4600 non-null   int64 \n",
      " 6   waterfront     4600 non-null   int64 \n",
      " 7   view           4600 non-null   int64 \n",
      " 8   condition      4600 non-null   int64 \n",
      " 9   sqft_above     4600 non-null   int64 \n",
      " 10  sqft_basement  4600 non-null   int64 \n",
      " 11  yr_built       4600 non-null   int64 \n",
      " 12  yr_renovated   4600 non-null   int64 \n",
      " 13  city           4600 non-null   object\n",
      " 14  statezip       4600 non-null   object\n",
      " 15  country        4600 non-null   object\n",
      "dtypes: int64(13), object(3)\n",
      "memory usage: 575.1+ KB\n"
     ]
    }
   ],
   "source": [
    "print(\"Insights of Data\".center(50, \"-\"))\n",
    "df.info()"
   ]
  },
  {
   "cell_type": "code",
   "execution_count": 26,
   "id": "34878bf6",
   "metadata": {},
   "outputs": [],
   "source": [
    "# def fillNaObjMode(col):\n",
    "#     for i in col:\n",
    "#         df[i] = df[i].fillna(df[i].mode()[0])\n",
    "\n",
    "# columns = ['street', 'city', 'statezip', 'country']\n",
    "# fillNaObjMode(columns)"
   ]
  },
  {
   "cell_type": "code",
   "execution_count": 27,
   "id": "c0b015b4",
   "metadata": {},
   "outputs": [],
   "source": [
    "# df['street'].nunique()"
   ]
  },
  {
   "cell_type": "code",
   "execution_count": 27,
   "id": "4d327007",
   "metadata": {},
   "outputs": [
    {
     "data": {
      "text/plain": [
       "array(['Shoreline', 'Seattle', 'Kent', 'Bellevue', 'Redmond',\n",
       "       'Maple Valley', 'North Bend', 'Lake Forest Park', 'Sammamish',\n",
       "       'Auburn', 'Des Moines', 'Bothell', 'Federal Way', 'Kirkland',\n",
       "       'Issaquah', 'Woodinville', 'Normandy Park', 'Fall City', 'Renton',\n",
       "       'Carnation', 'Snoqualmie', 'Duvall', 'Burien', 'Covington',\n",
       "       'Inglewood-Finn Hill', 'Kenmore', 'Newcastle', 'Mercer Island',\n",
       "       'Black Diamond', 'Ravensdale', 'Clyde Hill', 'Algona', 'Skykomish',\n",
       "       'Tukwila', 'Vashon', 'Yarrow Point', 'SeaTac', 'Medina',\n",
       "       'Enumclaw', 'Snoqualmie Pass', 'Pacific', 'Beaux Arts Village',\n",
       "       'Preston', 'Milton'], dtype=object)"
      ]
     },
     "execution_count": 27,
     "metadata": {},
     "output_type": "execute_result"
    }
   ],
   "source": [
    "df['city'].unique()"
   ]
  },
  {
   "cell_type": "code",
   "execution_count": 28,
   "id": "ed35fad7",
   "metadata": {},
   "outputs": [
    {
     "data": {
      "text/plain": [
       "array(['WA 98133', 'WA 98119', 'WA 98042', 'WA 98008', 'WA 98052',\n",
       "       'WA 98115', 'WA 98038', 'WA 98045', 'WA 98155', 'WA 98105',\n",
       "       'WA 98074', 'WA 98106', 'WA 98007', 'WA 98092', 'WA 98198',\n",
       "       'WA 98006', 'WA 98102', 'WA 98011', 'WA 98125', 'WA 98003',\n",
       "       'WA 98136', 'WA 98033', 'WA 98029', 'WA 98117', 'WA 98034',\n",
       "       'WA 98072', 'WA 98023', 'WA 98107', 'WA 98166', 'WA 98116',\n",
       "       'WA 98024', 'WA 98055', 'WA 98077', 'WA 98027', 'WA 98059',\n",
       "       'WA 98075', 'WA 98014', 'WA 98065', 'WA 98199', 'WA 98053',\n",
       "       'WA 98058', 'WA 98122', 'WA 98103', 'WA 98112', 'WA 98005',\n",
       "       'WA 98118', 'WA 98177', 'WA 98004', 'WA 98019', 'WA 98144',\n",
       "       'WA 98168', 'WA 98001', 'WA 98056', 'WA 98146', 'WA 98028',\n",
       "       'WA 98148', 'WA 98057', 'WA 98040', 'WA 98010', 'WA 98051',\n",
       "       'WA 98031', 'WA 98109', 'WA 98030', 'WA 98126', 'WA 98032',\n",
       "       'WA 98178', 'WA 98288', 'WA 98108', 'WA 98070', 'WA 98188',\n",
       "       'WA 98002', 'WA 98039', 'WA 98022', 'WA 98068', 'WA 98047',\n",
       "       'WA 98050', 'WA 98354'], dtype=object)"
      ]
     },
     "execution_count": 28,
     "metadata": {},
     "output_type": "execute_result"
    }
   ],
   "source": [
    "df['statezip'].unique()"
   ]
  },
  {
   "cell_type": "code",
   "execution_count": 29,
   "id": "d97eed8b",
   "metadata": {},
   "outputs": [
    {
     "data": {
      "text/plain": [
       "array(['USA'], dtype=object)"
      ]
     },
     "execution_count": 29,
     "metadata": {},
     "output_type": "execute_result"
    }
   ],
   "source": [
    "df['country'].unique()"
   ]
  },
  {
   "cell_type": "code",
   "execution_count": 30,
   "id": "118f4fab",
   "metadata": {},
   "outputs": [],
   "source": [
    "df_encoded = df.copy()"
   ]
  },
  {
   "cell_type": "code",
   "execution_count": 31,
   "id": "ec561d75",
   "metadata": {},
   "outputs": [],
   "source": [
    "def encodeCols(cols):\n",
    "    for i in cols:\n",
    "        data = pd.DataFrame({i:df[i].unique()})\n",
    "        data_label_encoder = LabelEncoder()\n",
    "        data_label_encoder.fit(np.ravel(data))\n",
    "        df_encoded[i] = data_label_encoder.transform(df[i]) \n",
    "\n",
    "columns = ['city','statezip','country']\n",
    "encodeCols(columns)"
   ]
  },
  {
   "cell_type": "code",
   "execution_count": 33,
   "id": "1f765978",
   "metadata": {},
   "outputs": [],
   "source": [
    "# # Labels\n",
    "# country = pd.DataFrame({'country':df['country'].unique()})\n",
    "\n",
    "# # Initializing Label Encoders\n",
    "# country_label_encoder = LabelEncoder()\n",
    "\n",
    "# # Training Label Encoder\n",
    "# country_label_encoder.fit(np.ravel(country))"
   ]
  },
  {
   "cell_type": "code",
   "execution_count": 34,
   "id": "ca077aa2",
   "metadata": {},
   "outputs": [],
   "source": [
    "# df_encoded['country'] = country_label_encoder.transform(df['country']) "
   ]
  },
  {
   "cell_type": "code",
   "execution_count": null,
   "id": "37a8d7aa",
   "metadata": {},
   "outputs": [],
   "source": []
  },
  {
   "cell_type": "code",
   "execution_count": 32,
   "id": "aeac9a97",
   "metadata": {
    "scrolled": true
   },
   "outputs": [
    {
     "name": "stdout",
     "output_type": "stream",
     "text": [
      "<class 'pandas.core.frame.DataFrame'>\n",
      "RangeIndex: 4600 entries, 0 to 4599\n",
      "Data columns (total 16 columns):\n",
      " #   Column         Non-Null Count  Dtype\n",
      "---  ------         --------------  -----\n",
      " 0   price          4600 non-null   int64\n",
      " 1   bedrooms       4600 non-null   int64\n",
      " 2   bathrooms      4600 non-null   int64\n",
      " 3   sqft_living    4600 non-null   int64\n",
      " 4   sqft_lot       4600 non-null   int64\n",
      " 5   floors         4600 non-null   int64\n",
      " 6   waterfront     4600 non-null   int64\n",
      " 7   view           4600 non-null   int64\n",
      " 8   condition      4600 non-null   int64\n",
      " 9   sqft_above     4600 non-null   int64\n",
      " 10  sqft_basement  4600 non-null   int64\n",
      " 11  yr_built       4600 non-null   int64\n",
      " 12  yr_renovated   4600 non-null   int64\n",
      " 13  city           4600 non-null   int32\n",
      " 14  statezip       4600 non-null   int32\n",
      " 15  country        4600 non-null   int32\n",
      "dtypes: int32(3), int64(13)\n",
      "memory usage: 521.2 KB\n"
     ]
    }
   ],
   "source": [
    "# All the Attributes are Numerical \n",
    "df_encoded.info()"
   ]
  },
  {
   "cell_type": "code",
   "execution_count": 33,
   "id": "d134b56a",
   "metadata": {},
   "outputs": [],
   "source": [
    "df_encoded.to_csv(r'encoded-data.csv', index = False, header = True)"
   ]
  },
  {
   "cell_type": "markdown",
   "id": "2189a213",
   "metadata": {},
   "source": [
    "# Train-Test Splitting"
   ]
  },
  {
   "cell_type": "code",
   "execution_count": 34,
   "id": "47b6a06f",
   "metadata": {},
   "outputs": [],
   "source": [
    "traindata, testdata = train_test_split(df_encoded, test_size=0.2, shuffle=False)"
   ]
  },
  {
   "cell_type": "code",
   "execution_count": 35,
   "id": "8aec971f",
   "metadata": {},
   "outputs": [
    {
     "data": {
      "text/html": [
       "<div>\n",
       "<style scoped>\n",
       "    .dataframe tbody tr th:only-of-type {\n",
       "        vertical-align: middle;\n",
       "    }\n",
       "\n",
       "    .dataframe tbody tr th {\n",
       "        vertical-align: top;\n",
       "    }\n",
       "\n",
       "    .dataframe thead th {\n",
       "        text-align: right;\n",
       "    }\n",
       "</style>\n",
       "<table border=\"1\" class=\"dataframe\">\n",
       "  <thead>\n",
       "    <tr style=\"text-align: right;\">\n",
       "      <th></th>\n",
       "      <th>price</th>\n",
       "      <th>bedrooms</th>\n",
       "      <th>bathrooms</th>\n",
       "      <th>sqft_living</th>\n",
       "      <th>sqft_lot</th>\n",
       "      <th>floors</th>\n",
       "      <th>waterfront</th>\n",
       "      <th>view</th>\n",
       "      <th>condition</th>\n",
       "      <th>sqft_above</th>\n",
       "      <th>sqft_basement</th>\n",
       "      <th>yr_built</th>\n",
       "      <th>yr_renovated</th>\n",
       "      <th>city</th>\n",
       "      <th>statezip</th>\n",
       "      <th>country</th>\n",
       "    </tr>\n",
       "  </thead>\n",
       "  <tbody>\n",
       "    <tr>\n",
       "      <th>0</th>\n",
       "      <td>551658</td>\n",
       "      <td>3</td>\n",
       "      <td>2</td>\n",
       "      <td>1340</td>\n",
       "      <td>7912</td>\n",
       "      <td>1</td>\n",
       "      <td>12</td>\n",
       "      <td>0</td>\n",
       "      <td>3</td>\n",
       "      <td>1340</td>\n",
       "      <td>0</td>\n",
       "      <td>1955</td>\n",
       "      <td>2005</td>\n",
       "      <td>36</td>\n",
       "      <td>62</td>\n",
       "      <td>0</td>\n",
       "    </tr>\n",
       "    <tr>\n",
       "      <th>1</th>\n",
       "      <td>551658</td>\n",
       "      <td>5</td>\n",
       "      <td>2</td>\n",
       "      <td>3650</td>\n",
       "      <td>9050</td>\n",
       "      <td>2</td>\n",
       "      <td>12</td>\n",
       "      <td>4</td>\n",
       "      <td>5</td>\n",
       "      <td>3370</td>\n",
       "      <td>280</td>\n",
       "      <td>1921</td>\n",
       "      <td>0</td>\n",
       "      <td>35</td>\n",
       "      <td>58</td>\n",
       "      <td>0</td>\n",
       "    </tr>\n",
       "  </tbody>\n",
       "</table>\n",
       "</div>"
      ],
      "text/plain": [
       "    price  bedrooms  bathrooms  sqft_living  sqft_lot  floors  waterfront  \\\n",
       "0  551658         3          2         1340      7912       1          12   \n",
       "1  551658         5          2         3650      9050       2          12   \n",
       "\n",
       "   view  condition  sqft_above  sqft_basement  yr_built  yr_renovated  city  \\\n",
       "0     0          3        1340              0      1955          2005    36   \n",
       "1     4          5        3370            280      1921             0    35   \n",
       "\n",
       "   statezip  country  \n",
       "0        62        0  \n",
       "1        58        0  "
      ]
     },
     "execution_count": 35,
     "metadata": {},
     "output_type": "execute_result"
    }
   ],
   "source": [
    "traindata.head(2)"
   ]
  },
  {
   "cell_type": "code",
   "execution_count": 36,
   "id": "80716cf5",
   "metadata": {},
   "outputs": [
    {
     "data": {
      "text/html": [
       "<div>\n",
       "<style scoped>\n",
       "    .dataframe tbody tr th:only-of-type {\n",
       "        vertical-align: middle;\n",
       "    }\n",
       "\n",
       "    .dataframe tbody tr th {\n",
       "        vertical-align: top;\n",
       "    }\n",
       "\n",
       "    .dataframe thead th {\n",
       "        text-align: right;\n",
       "    }\n",
       "</style>\n",
       "<table border=\"1\" class=\"dataframe\">\n",
       "  <thead>\n",
       "    <tr style=\"text-align: right;\">\n",
       "      <th></th>\n",
       "      <th>price</th>\n",
       "      <th>bedrooms</th>\n",
       "      <th>bathrooms</th>\n",
       "      <th>sqft_living</th>\n",
       "      <th>sqft_lot</th>\n",
       "      <th>floors</th>\n",
       "      <th>waterfront</th>\n",
       "      <th>view</th>\n",
       "      <th>condition</th>\n",
       "      <th>sqft_above</th>\n",
       "      <th>sqft_basement</th>\n",
       "      <th>yr_built</th>\n",
       "      <th>yr_renovated</th>\n",
       "      <th>city</th>\n",
       "      <th>statezip</th>\n",
       "      <th>country</th>\n",
       "    </tr>\n",
       "  </thead>\n",
       "  <tbody>\n",
       "    <tr>\n",
       "      <th>3680</th>\n",
       "      <td>500000</td>\n",
       "      <td>4</td>\n",
       "      <td>3</td>\n",
       "      <td>3720</td>\n",
       "      <td>15048</td>\n",
       "      <td>3</td>\n",
       "      <td>0</td>\n",
       "      <td>0</td>\n",
       "      <td>3</td>\n",
       "      <td>3720</td>\n",
       "      <td>0</td>\n",
       "      <td>1979</td>\n",
       "      <td>2014</td>\n",
       "      <td>32</td>\n",
       "      <td>37</td>\n",
       "      <td>0</td>\n",
       "    </tr>\n",
       "    <tr>\n",
       "      <th>3681</th>\n",
       "      <td>570000</td>\n",
       "      <td>3</td>\n",
       "      <td>2</td>\n",
       "      <td>1890</td>\n",
       "      <td>29185</td>\n",
       "      <td>1</td>\n",
       "      <td>0</td>\n",
       "      <td>0</td>\n",
       "      <td>3</td>\n",
       "      <td>1470</td>\n",
       "      <td>420</td>\n",
       "      <td>1949</td>\n",
       "      <td>2013</td>\n",
       "      <td>3</td>\n",
       "      <td>5</td>\n",
       "      <td>0</td>\n",
       "    </tr>\n",
       "  </tbody>\n",
       "</table>\n",
       "</div>"
      ],
      "text/plain": [
       "       price  bedrooms  bathrooms  sqft_living  sqft_lot  floors  waterfront  \\\n",
       "3680  500000         4          3         3720     15048       3           0   \n",
       "3681  570000         3          2         1890     29185       1           0   \n",
       "\n",
       "      view  condition  sqft_above  sqft_basement  yr_built  yr_renovated  \\\n",
       "3680     0          3        3720              0      1979          2014   \n",
       "3681     0          3        1470            420      1949          2013   \n",
       "\n",
       "      city  statezip  country  \n",
       "3680    32        37        0  \n",
       "3681     3         5        0  "
      ]
     },
     "execution_count": 36,
     "metadata": {},
     "output_type": "execute_result"
    }
   ],
   "source": [
    "testdata.head(2)"
   ]
  },
  {
   "cell_type": "code",
   "execution_count": 40,
   "id": "f94d3cb4",
   "metadata": {},
   "outputs": [],
   "source": [
    "# X = df_encoded.drop('price', axis=1)\n",
    "# y = df_encoded['price']"
   ]
  },
  {
   "cell_type": "code",
   "execution_count": 37,
   "id": "6f2c43bc",
   "metadata": {},
   "outputs": [
    {
     "data": {
      "text/html": [
       "<div>\n",
       "<style scoped>\n",
       "    .dataframe tbody tr th:only-of-type {\n",
       "        vertical-align: middle;\n",
       "    }\n",
       "\n",
       "    .dataframe tbody tr th {\n",
       "        vertical-align: top;\n",
       "    }\n",
       "\n",
       "    .dataframe thead th {\n",
       "        text-align: right;\n",
       "    }\n",
       "</style>\n",
       "<table border=\"1\" class=\"dataframe\">\n",
       "  <thead>\n",
       "    <tr style=\"text-align: right;\">\n",
       "      <th></th>\n",
       "      <th>bedrooms</th>\n",
       "      <th>bathrooms</th>\n",
       "      <th>sqft_living</th>\n",
       "      <th>sqft_lot</th>\n",
       "      <th>floors</th>\n",
       "      <th>waterfront</th>\n",
       "      <th>view</th>\n",
       "      <th>condition</th>\n",
       "      <th>sqft_above</th>\n",
       "      <th>sqft_basement</th>\n",
       "      <th>yr_built</th>\n",
       "      <th>yr_renovated</th>\n",
       "      <th>city</th>\n",
       "      <th>statezip</th>\n",
       "      <th>country</th>\n",
       "    </tr>\n",
       "  </thead>\n",
       "  <tbody>\n",
       "    <tr>\n",
       "      <th>0</th>\n",
       "      <td>3</td>\n",
       "      <td>2</td>\n",
       "      <td>1340</td>\n",
       "      <td>7912</td>\n",
       "      <td>1</td>\n",
       "      <td>12</td>\n",
       "      <td>0</td>\n",
       "      <td>3</td>\n",
       "      <td>1340</td>\n",
       "      <td>0</td>\n",
       "      <td>1955</td>\n",
       "      <td>2005</td>\n",
       "      <td>36</td>\n",
       "      <td>62</td>\n",
       "      <td>0</td>\n",
       "    </tr>\n",
       "    <tr>\n",
       "      <th>1</th>\n",
       "      <td>5</td>\n",
       "      <td>2</td>\n",
       "      <td>3650</td>\n",
       "      <td>9050</td>\n",
       "      <td>2</td>\n",
       "      <td>12</td>\n",
       "      <td>4</td>\n",
       "      <td>5</td>\n",
       "      <td>3370</td>\n",
       "      <td>280</td>\n",
       "      <td>1921</td>\n",
       "      <td>0</td>\n",
       "      <td>35</td>\n",
       "      <td>58</td>\n",
       "      <td>0</td>\n",
       "    </tr>\n",
       "    <tr>\n",
       "      <th>2</th>\n",
       "      <td>3</td>\n",
       "      <td>2</td>\n",
       "      <td>1930</td>\n",
       "      <td>11947</td>\n",
       "      <td>1</td>\n",
       "      <td>12</td>\n",
       "      <td>0</td>\n",
       "      <td>4</td>\n",
       "      <td>1930</td>\n",
       "      <td>0</td>\n",
       "      <td>1966</td>\n",
       "      <td>0</td>\n",
       "      <td>18</td>\n",
       "      <td>26</td>\n",
       "      <td>0</td>\n",
       "    </tr>\n",
       "    <tr>\n",
       "      <th>3</th>\n",
       "      <td>3</td>\n",
       "      <td>2</td>\n",
       "      <td>2000</td>\n",
       "      <td>8030</td>\n",
       "      <td>1</td>\n",
       "      <td>12</td>\n",
       "      <td>0</td>\n",
       "      <td>4</td>\n",
       "      <td>1000</td>\n",
       "      <td>1000</td>\n",
       "      <td>1963</td>\n",
       "      <td>0</td>\n",
       "      <td>3</td>\n",
       "      <td>7</td>\n",
       "      <td>0</td>\n",
       "    </tr>\n",
       "    <tr>\n",
       "      <th>4</th>\n",
       "      <td>4</td>\n",
       "      <td>2</td>\n",
       "      <td>1940</td>\n",
       "      <td>10500</td>\n",
       "      <td>1</td>\n",
       "      <td>12</td>\n",
       "      <td>0</td>\n",
       "      <td>4</td>\n",
       "      <td>1140</td>\n",
       "      <td>800</td>\n",
       "      <td>1976</td>\n",
       "      <td>1992</td>\n",
       "      <td>31</td>\n",
       "      <td>31</td>\n",
       "      <td>0</td>\n",
       "    </tr>\n",
       "  </tbody>\n",
       "</table>\n",
       "</div>"
      ],
      "text/plain": [
       "   bedrooms  bathrooms  sqft_living  sqft_lot  floors  waterfront  view  \\\n",
       "0         3          2         1340      7912       1          12     0   \n",
       "1         5          2         3650      9050       2          12     4   \n",
       "2         3          2         1930     11947       1          12     0   \n",
       "3         3          2         2000      8030       1          12     0   \n",
       "4         4          2         1940     10500       1          12     0   \n",
       "\n",
       "   condition  sqft_above  sqft_basement  yr_built  yr_renovated  city  \\\n",
       "0          3        1340              0      1955          2005    36   \n",
       "1          5        3370            280      1921             0    35   \n",
       "2          4        1930              0      1966             0    18   \n",
       "3          4        1000           1000      1963             0     3   \n",
       "4          4        1140            800      1976          1992    31   \n",
       "\n",
       "   statezip  country  \n",
       "0        62        0  \n",
       "1        58        0  \n",
       "2        26        0  \n",
       "3         7        0  \n",
       "4        31        0  "
      ]
     },
     "execution_count": 37,
     "metadata": {},
     "output_type": "execute_result"
    }
   ],
   "source": [
    "train_x = traindata.iloc[:, 1:]\n",
    "train_x.head()"
   ]
  },
  {
   "cell_type": "code",
   "execution_count": 47,
   "id": "8a8535ab",
   "metadata": {},
   "outputs": [
    {
     "data": {
      "text/plain": [
       "0    551658\n",
       "1    551658\n",
       "2    342000\n",
       "3    551658\n",
       "4    550000\n",
       "Name: price, dtype: int64"
      ]
     },
     "execution_count": 47,
     "metadata": {},
     "output_type": "execute_result"
    }
   ],
   "source": [
    "train_y = traindata.iloc[:, 0]\n",
    "train_y.head()"
   ]
  },
  {
   "cell_type": "code",
   "execution_count": 38,
   "id": "3662e0b8",
   "metadata": {},
   "outputs": [
    {
     "data": {
      "text/html": [
       "<div>\n",
       "<style scoped>\n",
       "    .dataframe tbody tr th:only-of-type {\n",
       "        vertical-align: middle;\n",
       "    }\n",
       "\n",
       "    .dataframe tbody tr th {\n",
       "        vertical-align: top;\n",
       "    }\n",
       "\n",
       "    .dataframe thead th {\n",
       "        text-align: right;\n",
       "    }\n",
       "</style>\n",
       "<table border=\"1\" class=\"dataframe\">\n",
       "  <thead>\n",
       "    <tr style=\"text-align: right;\">\n",
       "      <th></th>\n",
       "      <th>bedrooms</th>\n",
       "      <th>bathrooms</th>\n",
       "      <th>sqft_living</th>\n",
       "      <th>sqft_lot</th>\n",
       "      <th>floors</th>\n",
       "      <th>waterfront</th>\n",
       "      <th>view</th>\n",
       "      <th>condition</th>\n",
       "      <th>sqft_above</th>\n",
       "      <th>sqft_basement</th>\n",
       "      <th>yr_built</th>\n",
       "      <th>yr_renovated</th>\n",
       "      <th>city</th>\n",
       "      <th>statezip</th>\n",
       "      <th>country</th>\n",
       "    </tr>\n",
       "  </thead>\n",
       "  <tbody>\n",
       "    <tr>\n",
       "      <th>3680</th>\n",
       "      <td>4</td>\n",
       "      <td>3</td>\n",
       "      <td>3720</td>\n",
       "      <td>15048</td>\n",
       "      <td>3</td>\n",
       "      <td>0</td>\n",
       "      <td>0</td>\n",
       "      <td>3</td>\n",
       "      <td>3720</td>\n",
       "      <td>0</td>\n",
       "      <td>1979</td>\n",
       "      <td>2014</td>\n",
       "      <td>32</td>\n",
       "      <td>37</td>\n",
       "      <td>0</td>\n",
       "    </tr>\n",
       "    <tr>\n",
       "      <th>3681</th>\n",
       "      <td>3</td>\n",
       "      <td>2</td>\n",
       "      <td>1890</td>\n",
       "      <td>29185</td>\n",
       "      <td>1</td>\n",
       "      <td>0</td>\n",
       "      <td>0</td>\n",
       "      <td>3</td>\n",
       "      <td>1470</td>\n",
       "      <td>420</td>\n",
       "      <td>1949</td>\n",
       "      <td>2013</td>\n",
       "      <td>3</td>\n",
       "      <td>5</td>\n",
       "      <td>0</td>\n",
       "    </tr>\n",
       "    <tr>\n",
       "      <th>3682</th>\n",
       "      <td>4</td>\n",
       "      <td>2</td>\n",
       "      <td>2680</td>\n",
       "      <td>12215</td>\n",
       "      <td>1</td>\n",
       "      <td>1</td>\n",
       "      <td>4</td>\n",
       "      <td>3</td>\n",
       "      <td>1590</td>\n",
       "      <td>1090</td>\n",
       "      <td>1956</td>\n",
       "      <td>2001</td>\n",
       "      <td>26</td>\n",
       "      <td>68</td>\n",
       "      <td>0</td>\n",
       "    </tr>\n",
       "    <tr>\n",
       "      <th>3683</th>\n",
       "      <td>3</td>\n",
       "      <td>2</td>\n",
       "      <td>1460</td>\n",
       "      <td>1613</td>\n",
       "      <td>2</td>\n",
       "      <td>0</td>\n",
       "      <td>0</td>\n",
       "      <td>3</td>\n",
       "      <td>1180</td>\n",
       "      <td>280</td>\n",
       "      <td>2007</td>\n",
       "      <td>0</td>\n",
       "      <td>35</td>\n",
       "      <td>56</td>\n",
       "      <td>0</td>\n",
       "    </tr>\n",
       "    <tr>\n",
       "      <th>3684</th>\n",
       "      <td>3</td>\n",
       "      <td>2</td>\n",
       "      <td>3180</td>\n",
       "      <td>7904</td>\n",
       "      <td>1</td>\n",
       "      <td>0</td>\n",
       "      <td>0</td>\n",
       "      <td>3</td>\n",
       "      <td>1810</td>\n",
       "      <td>1370</td>\n",
       "      <td>2006</td>\n",
       "      <td>0</td>\n",
       "      <td>32</td>\n",
       "      <td>34</td>\n",
       "      <td>0</td>\n",
       "    </tr>\n",
       "  </tbody>\n",
       "</table>\n",
       "</div>"
      ],
      "text/plain": [
       "      bedrooms  bathrooms  sqft_living  sqft_lot  floors  waterfront  view  \\\n",
       "3680         4          3         3720     15048       3           0     0   \n",
       "3681         3          2         1890     29185       1           0     0   \n",
       "3682         4          2         2680     12215       1           1     4   \n",
       "3683         3          2         1460      1613       2           0     0   \n",
       "3684         3          2         3180      7904       1           0     0   \n",
       "\n",
       "      condition  sqft_above  sqft_basement  yr_built  yr_renovated  city  \\\n",
       "3680          3        3720              0      1979          2014    32   \n",
       "3681          3        1470            420      1949          2013     3   \n",
       "3682          3        1590           1090      1956          2001    26   \n",
       "3683          3        1180            280      2007             0    35   \n",
       "3684          3        1810           1370      2006             0    32   \n",
       "\n",
       "      statezip  country  \n",
       "3680        37        0  \n",
       "3681         5        0  \n",
       "3682        68        0  \n",
       "3683        56        0  \n",
       "3684        34        0  "
      ]
     },
     "execution_count": 38,
     "metadata": {},
     "output_type": "execute_result"
    }
   ],
   "source": [
    "test_x = testdata.iloc[:, 1:]\n",
    "test_x.head()"
   ]
  },
  {
   "cell_type": "code",
   "execution_count": 39,
   "id": "7ce38c77",
   "metadata": {},
   "outputs": [
    {
     "data": {
      "text/plain": [
       "3680     500000\n",
       "3681     570000\n",
       "3682    1309500\n",
       "3683     544000\n",
       "3684     439000\n",
       "Name: price, dtype: int64"
      ]
     },
     "execution_count": 39,
     "metadata": {},
     "output_type": "execute_result"
    }
   ],
   "source": [
    "test_y = testdata.iloc[:, 0]\n",
    "test_y.head()"
   ]
  },
  {
   "cell_type": "markdown",
   "id": "60aac1e0",
   "metadata": {},
   "source": [
    "# Training Model Using Support Vector Classifier"
   ]
  },
  {
   "cell_type": "code",
   "execution_count": 48,
   "id": "96e53621",
   "metadata": {},
   "outputs": [
    {
     "name": "stdout",
     "output_type": "stream",
     "text": [
      "-------Training using SVC on Training Data--------\n",
      "-- Parameters & Values: SVC(gamma='auto', random_state=0)\n"
     ]
    }
   ],
   "source": [
    "print(\"Training using SVC on Training Data\".center(50, \"-\"))\n",
    "print(\"-- Parameters & Values: \", end='')\n",
    "\n",
    "model_svc = SVC(gamma='auto', random_state=0)\n",
    "model_svc.fit(train_x, train_y)\n",
    "\n",
    "print(model_svc)"
   ]
  },
  {
   "cell_type": "code",
   "execution_count": 49,
   "id": "6c38066a",
   "metadata": {},
   "outputs": [],
   "source": [
    "# Saving Trained Model\n",
    "pickle.dump(model_svc, open('model_svc.pkl', 'wb'))"
   ]
  },
  {
   "cell_type": "code",
   "execution_count": 50,
   "id": "701ce53a",
   "metadata": {},
   "outputs": [],
   "source": [
    "# Load saved Model\n",
    "model = pickle.load(open('model_svc.pkl', 'rb'))"
   ]
  },
  {
   "cell_type": "code",
   "execution_count": 51,
   "id": "03b6e77b",
   "metadata": {},
   "outputs": [],
   "source": [
    "model_predictions = model.predict(test_x)\n",
    "\n",
    "testdata_predict = testdata.copy(deep=True)\n",
    "pd.options.mode.chained_assignment = None\n",
    "\n",
    "testdata_predict['Prediction'] = model_predictions"
   ]
  },
  {
   "cell_type": "code",
   "execution_count": 52,
   "id": "1ffc5398",
   "metadata": {},
   "outputs": [
    {
     "name": "stdout",
     "output_type": "stream",
     "text": [
      "-----------Testing Data with Prediction-----------\n"
     ]
    }
   ],
   "source": [
    "# Printing Testing Data\n",
    "print(\"Testing Data with Prediction\".center(50, \"-\"))\n",
    "# pd.set_option(\"display.max_rows\", None, \"display.max_columns\", None)\n",
    "# testdata_predict"
   ]
  },
  {
   "cell_type": "code",
   "execution_count": 53,
   "id": "d32925bc",
   "metadata": {},
   "outputs": [
    {
     "name": "stdout",
     "output_type": "stream",
     "text": [
      "-- Model Accuracy Score: 0.013\n"
     ]
    }
   ],
   "source": [
    "model_accuracy_score = accuracy_score(testdata_predict['price'], testdata_predict['Prediction'])\n",
    "\n",
    "print(\"-- Model Accuracy Score: \", end='')\n",
    "print(round(model_accuracy_score,3))"
   ]
  },
  {
   "cell_type": "markdown",
   "id": "b2d5730a",
   "metadata": {},
   "source": [
    "# SVM Classifier"
   ]
  },
  {
   "cell_type": "code",
   "execution_count": 54,
   "id": "466fb4af",
   "metadata": {},
   "outputs": [],
   "source": [
    "import pandas as pd\n",
    "from sklearn.model_selection import train_test_split\n",
    "from sklearn.svm import SVC\n",
    "from sklearn.metrics import accuracy_score, classification_report, confusion_matrix"
   ]
  },
  {
   "cell_type": "code",
   "execution_count": 55,
   "id": "0c9ad770",
   "metadata": {},
   "outputs": [],
   "source": [
    "df = pd.DataFrame({  # Example DataFrame; replace this with your actual dataset\n",
    "    'feature1': [1, 2, 3, 4, 5, 6],\n",
    "    'feature2': [2, 3, 4, 5, 6, 7],\n",
    "    'target': [0, 1, 0, 1, 0, 1]\n",
    "})\n"
   ]
  },
  {
   "cell_type": "code",
   "execution_count": 56,
   "id": "5a59a6c6",
   "metadata": {},
   "outputs": [],
   "source": [
    "# Step 3: Define features (X) and target (y)\n",
    "X = df.drop(columns=['target'])  # Replace 'target' with the name of your target column\n",
    "y = df['target']                # Replace 'target' with the name of your target column\n"
   ]
  },
  {
   "cell_type": "code",
   "execution_count": 57,
   "id": "9fd76ca6",
   "metadata": {},
   "outputs": [],
   "source": [
    "# Step 4: Split the data into training and testing sets\n",
    "X_train, X_test, y_train, y_test = train_test_split(X, y, test_size=0.3, random_state=42)\n"
   ]
  },
  {
   "cell_type": "code",
   "execution_count": 58,
   "id": "049fc095",
   "metadata": {},
   "outputs": [],
   "source": [
    "# Step 5: Initialize the SVM Classifier\n",
    "svm_classifier = SVC(kernel='linear')"
   ]
  },
  {
   "cell_type": "code",
   "execution_count": 59,
   "id": "f0d1d555",
   "metadata": {},
   "outputs": [
    {
     "data": {
      "text/html": [
       "<style>#sk-container-id-1 {color: black;}#sk-container-id-1 pre{padding: 0;}#sk-container-id-1 div.sk-toggleable {background-color: white;}#sk-container-id-1 label.sk-toggleable__label {cursor: pointer;display: block;width: 100%;margin-bottom: 0;padding: 0.3em;box-sizing: border-box;text-align: center;}#sk-container-id-1 label.sk-toggleable__label-arrow:before {content: \"▸\";float: left;margin-right: 0.25em;color: #696969;}#sk-container-id-1 label.sk-toggleable__label-arrow:hover:before {color: black;}#sk-container-id-1 div.sk-estimator:hover label.sk-toggleable__label-arrow:before {color: black;}#sk-container-id-1 div.sk-toggleable__content {max-height: 0;max-width: 0;overflow: hidden;text-align: left;background-color: #f0f8ff;}#sk-container-id-1 div.sk-toggleable__content pre {margin: 0.2em;color: black;border-radius: 0.25em;background-color: #f0f8ff;}#sk-container-id-1 input.sk-toggleable__control:checked~div.sk-toggleable__content {max-height: 200px;max-width: 100%;overflow: auto;}#sk-container-id-1 input.sk-toggleable__control:checked~label.sk-toggleable__label-arrow:before {content: \"▾\";}#sk-container-id-1 div.sk-estimator input.sk-toggleable__control:checked~label.sk-toggleable__label {background-color: #d4ebff;}#sk-container-id-1 div.sk-label input.sk-toggleable__control:checked~label.sk-toggleable__label {background-color: #d4ebff;}#sk-container-id-1 input.sk-hidden--visually {border: 0;clip: rect(1px 1px 1px 1px);clip: rect(1px, 1px, 1px, 1px);height: 1px;margin: -1px;overflow: hidden;padding: 0;position: absolute;width: 1px;}#sk-container-id-1 div.sk-estimator {font-family: monospace;background-color: #f0f8ff;border: 1px dotted black;border-radius: 0.25em;box-sizing: border-box;margin-bottom: 0.5em;}#sk-container-id-1 div.sk-estimator:hover {background-color: #d4ebff;}#sk-container-id-1 div.sk-parallel-item::after {content: \"\";width: 100%;border-bottom: 1px solid gray;flex-grow: 1;}#sk-container-id-1 div.sk-label:hover label.sk-toggleable__label {background-color: #d4ebff;}#sk-container-id-1 div.sk-serial::before {content: \"\";position: absolute;border-left: 1px solid gray;box-sizing: border-box;top: 0;bottom: 0;left: 50%;z-index: 0;}#sk-container-id-1 div.sk-serial {display: flex;flex-direction: column;align-items: center;background-color: white;padding-right: 0.2em;padding-left: 0.2em;position: relative;}#sk-container-id-1 div.sk-item {position: relative;z-index: 1;}#sk-container-id-1 div.sk-parallel {display: flex;align-items: stretch;justify-content: center;background-color: white;position: relative;}#sk-container-id-1 div.sk-item::before, #sk-container-id-1 div.sk-parallel-item::before {content: \"\";position: absolute;border-left: 1px solid gray;box-sizing: border-box;top: 0;bottom: 0;left: 50%;z-index: -1;}#sk-container-id-1 div.sk-parallel-item {display: flex;flex-direction: column;z-index: 1;position: relative;background-color: white;}#sk-container-id-1 div.sk-parallel-item:first-child::after {align-self: flex-end;width: 50%;}#sk-container-id-1 div.sk-parallel-item:last-child::after {align-self: flex-start;width: 50%;}#sk-container-id-1 div.sk-parallel-item:only-child::after {width: 0;}#sk-container-id-1 div.sk-dashed-wrapped {border: 1px dashed gray;margin: 0 0.4em 0.5em 0.4em;box-sizing: border-box;padding-bottom: 0.4em;background-color: white;}#sk-container-id-1 div.sk-label label {font-family: monospace;font-weight: bold;display: inline-block;line-height: 1.2em;}#sk-container-id-1 div.sk-label-container {text-align: center;}#sk-container-id-1 div.sk-container {/* jupyter's `normalize.less` sets `[hidden] { display: none; }` but bootstrap.min.css set `[hidden] { display: none !important; }` so we also need the `!important` here to be able to override the default hidden behavior on the sphinx rendered scikit-learn.org. See: https://github.com/scikit-learn/scikit-learn/issues/21755 */display: inline-block !important;position: relative;}#sk-container-id-1 div.sk-text-repr-fallback {display: none;}</style><div id=\"sk-container-id-1\" class=\"sk-top-container\"><div class=\"sk-text-repr-fallback\"><pre>SVC(kernel=&#x27;linear&#x27;)</pre><b>In a Jupyter environment, please rerun this cell to show the HTML representation or trust the notebook. <br />On GitHub, the HTML representation is unable to render, please try loading this page with nbviewer.org.</b></div><div class=\"sk-container\" hidden><div class=\"sk-item\"><div class=\"sk-estimator sk-toggleable\"><input class=\"sk-toggleable__control sk-hidden--visually\" id=\"sk-estimator-id-1\" type=\"checkbox\" checked><label for=\"sk-estimator-id-1\" class=\"sk-toggleable__label sk-toggleable__label-arrow\">SVC</label><div class=\"sk-toggleable__content\"><pre>SVC(kernel=&#x27;linear&#x27;)</pre></div></div></div></div></div>"
      ],
      "text/plain": [
       "SVC(kernel='linear')"
      ]
     },
     "execution_count": 59,
     "metadata": {},
     "output_type": "execute_result"
    }
   ],
   "source": [
    "# Step 6: Train the classifier\n",
    "svm_classifier.fit(X_train, y_train)"
   ]
  },
  {
   "cell_type": "code",
   "execution_count": 60,
   "id": "f7828db9",
   "metadata": {},
   "outputs": [],
   "source": [
    "# Step 7: Make predictions\n",
    "y_pred = svm_classifier.predict(X_test)"
   ]
  },
  {
   "cell_type": "code",
   "execution_count": 60,
   "id": "d1fefd3b",
   "metadata": {},
   "outputs": [
    {
     "name": "stdout",
     "output_type": "stream",
     "text": [
      "Accuracy: 0.5\n",
      "\n",
      "Classification Report:\n",
      "               precision    recall  f1-score   support\n",
      "\n",
      "           0       0.50      1.00      0.67         1\n",
      "           1       0.00      0.00      0.00         1\n",
      "\n",
      "    accuracy                           0.50         2\n",
      "   macro avg       0.25      0.50      0.33         2\n",
      "weighted avg       0.25      0.50      0.33         2\n",
      "\n",
      "\n",
      "Confusion Matrix:\n",
      " [[1 0]\n",
      " [1 0]]\n"
     ]
    },
    {
     "name": "stderr",
     "output_type": "stream",
     "text": [
      "c:\\Users\\marya\\anaconda3\\Lib\\site-packages\\sklearn\\metrics\\_classification.py:1469: UndefinedMetricWarning: Precision and F-score are ill-defined and being set to 0.0 in labels with no predicted samples. Use `zero_division` parameter to control this behavior.\n",
      "  _warn_prf(average, modifier, msg_start, len(result))\n",
      "c:\\Users\\marya\\anaconda3\\Lib\\site-packages\\sklearn\\metrics\\_classification.py:1469: UndefinedMetricWarning: Precision and F-score are ill-defined and being set to 0.0 in labels with no predicted samples. Use `zero_division` parameter to control this behavior.\n",
      "  _warn_prf(average, modifier, msg_start, len(result))\n",
      "c:\\Users\\marya\\anaconda3\\Lib\\site-packages\\sklearn\\metrics\\_classification.py:1469: UndefinedMetricWarning: Precision and F-score are ill-defined and being set to 0.0 in labels with no predicted samples. Use `zero_division` parameter to control this behavior.\n",
      "  _warn_prf(average, modifier, msg_start, len(result))\n"
     ]
    }
   ],
   "source": [
    "# Step 8: Evaluate the model\n",
    "print(\"Accuracy:\", accuracy_score(y_test, y_pred))\n",
    "print(\"\\nClassification Report:\\n\", classification_report(y_test, y_pred))\n",
    "print(\"\\nConfusion Matrix:\\n\", confusion_matrix(y_test, y_pred))"
   ]
  },
  {
   "cell_type": "code",
   "execution_count": null,
   "id": "15249c6e",
   "metadata": {},
   "outputs": [],
   "source": []
  },
  {
   "cell_type": "code",
   "execution_count": null,
   "id": "c06e7ff7",
   "metadata": {},
   "outputs": [],
   "source": []
  },
  {
   "cell_type": "markdown",
   "metadata": {},
   "source": [
    "## Splitting by Cell Type\n"
   ]
  },
  {
   "cell_type": "markdown",
   "metadata": {},
   "source": [
    "### Number of Code Cells: 62\n"
   ]
  },
  {
   "cell_type": "markdown",
   "metadata": {},
   "source": [
    "### Number of Markdown Cells: 10\n"
   ]
  },
  {
   "cell_type": "markdown",
   "metadata": {},
   "source": [
    "<!DOCTYPE html>\n",
    "<html lang=\"en\">\n",
    "<head>\n",
    "    <meta charset=\"UTF-8\">\n",
    "    <meta name=\"viewport\" content=\"width=device-width, initial-scale=1.0\">\n",
    "    <title>Lab 11</title>\n",
    "</head>\n",
    "<body style=\"background-color: #fffbcc;\"> <!-- Bright background -->\n",
    "    <h1 style=\"color: #ff5733;\">LAB 11</h1> <!-- Bright orange text -->\n",
    "    <h3 style=\"color: #3498db;\">Name: Maryam Sharif</h3> <!-- Bright blue text -->\n",
    "    <h3 style=\"color: #2ecc71;\">Rollnumber: BSDSM-F23-038</h3> <!-- Bright green text -->\n",
    "</body>\n",
    "</html>\n"
   ]
  },
  {
   "cell_type": "markdown",
   "id": "df2d0101",
   "metadata": {},
   "source": []
  }
 ],
 "metadata": {
  "kernelspec": {
   "display_name": "base",
   "language": "python",
   "name": "python3"
  },
  "language_info": {
   "codemirror_mode": {
    "name": "ipython",
    "version": 3
   },
   "file_extension": ".py",
   "mimetype": "text/x-python",
   "name": "python",
   "nbconvert_exporter": "python",
   "pygments_lexer": "ipython3",
   "version": "3.11.5"
  }
 },
 "nbformat": 4,
 "nbformat_minor": 5
}
